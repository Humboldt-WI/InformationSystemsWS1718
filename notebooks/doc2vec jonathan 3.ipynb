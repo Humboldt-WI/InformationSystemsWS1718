{
 "cells": [
  {
   "cell_type": "markdown",
   "metadata": {},
   "source": [
    "# Set up"
   ]
  },
  {
   "cell_type": "code",
   "execution_count": 1,
   "metadata": {
    "ExecuteTime": {
     "end_time": "2018-01-09T23:34:58.449265Z",
     "start_time": "2018-01-09T23:34:36.897711Z"
    },
    "scrolled": false
   },
   "outputs": [
    {
     "name": "stderr",
     "output_type": "stream",
     "text": [
      "C:\\Users\\Joni\\Anaconda3\\envs\\infosys\\lib\\site-packages\\gensim\\utils.py:860: UserWarning: detected Windows; aliasing chunkize to chunkize_serial\n",
      "  warnings.warn(\"detected Windows; aliasing chunkize to chunkize_serial\")\n"
     ]
    }
   ],
   "source": [
    "import pandas as pd\n",
    "import numpy as np\n",
    "import gensim\n",
    "from nltk import RegexpTokenizer\n",
    "from nltk.corpus import stopwords\n",
    "import logging\n",
    "import multiprocessing\n",
    "import os\n",
    "from collections import namedtuple\n",
    "import seaborn as sns\n",
    "\n",
    "FORMAT = '%(asctime)s %(levelname)s %(message)s'\n",
    "DATEFORMAT = '%Y-%m-%d %H:%M:%S'\n",
    "logging.basicConfig(level=logging.WARNING,\n",
    "                    format=FORMAT,\n",
    "                    datefmt=DATEFORMAT)\n",
    "logger = logging.getLogger(__name__)"
   ]
  },
  {
   "cell_type": "code",
   "execution_count": 2,
   "metadata": {
    "ExecuteTime": {
     "end_time": "2018-01-09T23:34:58.514265Z",
     "start_time": "2018-01-09T23:34:58.453716Z"
    },
    "scrolled": false
   },
   "outputs": [
    {
     "name": "stdout",
     "output_type": "stream",
     "text": [
      "working directory:  C:\\Users\\Joni\\Dropbox (Privat)\\CODE\\InformationSystemsWS1718\\notebooks\n",
      "data directory:     C:\\Users\\Joni\\Dropbox (Privat)\\CODE\\InformationSystemsWS1718\\data\n",
      "models directory:   C:\\Users\\Joni\\Dropbox (Privat)\\CODE\\InformationSystemsWS1718\\models\n"
     ]
    }
   ],
   "source": [
    "parent_dir = os.path.abspath(os.path.join(os.getcwd(), os.pardir))\n",
    "data_dir = os.path.join(parent_dir, 'data')\n",
    "models_dir = os.path.join(parent_dir, 'models')\n",
    "print('working directory: ', os.getcwd())\n",
    "print('data directory:    ', data_dir, )\n",
    "print('models directory:  ', models_dir)"
   ]
  },
  {
   "cell_type": "markdown",
   "metadata": {},
   "source": [
    "# Data preparation"
   ]
  },
  {
   "cell_type": "code",
   "execution_count": null,
   "metadata": {
    "ExecuteTime": {
     "end_time": "2018-01-09T23:34:59.656203Z",
     "start_time": "2018-01-09T23:34:58.522271Z"
    },
    "scrolled": false
   },
   "outputs": [],
   "source": [
    "data = pd.read_pickle(os.path.join(data_dir, 'data_clean_4cols.pickle'))\n",
    "data"
   ]
  },
  {
   "cell_type": "code",
   "execution_count": 4,
   "metadata": {
    "ExecuteTime": {
     "end_time": "2018-01-09T23:34:59.744271Z",
     "start_time": "2018-01-09T23:34:59.663209Z"
    },
    "scrolled": false
   },
   "outputs": [
    {
     "data": {
      "text/html": [
       "<div>\n",
       "<style scoped>\n",
       "    .dataframe tbody tr th:only-of-type {\n",
       "        vertical-align: middle;\n",
       "    }\n",
       "\n",
       "    .dataframe tbody tr th {\n",
       "        vertical-align: top;\n",
       "    }\n",
       "\n",
       "    .dataframe thead th {\n",
       "        text-align: right;\n",
       "    }\n",
       "</style>\n",
       "<table border=\"1\" class=\"dataframe\">\n",
       "  <thead>\n",
       "    <tr style=\"text-align: right;\">\n",
       "      <th></th>\n",
       "      <th>from_name</th>\n",
       "      <th>Partei_ABK</th>\n",
       "    </tr>\n",
       "  </thead>\n",
       "  <tbody>\n",
       "    <tr>\n",
       "      <th>173042</th>\n",
       "      <td>Dr. Daniela De Ridder</td>\n",
       "      <td>SPD</td>\n",
       "    </tr>\n",
       "    <tr>\n",
       "      <th>173559</th>\n",
       "      <td>Björn Simon</td>\n",
       "      <td>CDU</td>\n",
       "    </tr>\n",
       "    <tr>\n",
       "      <th>173902</th>\n",
       "      <td>Waldemar Westermayer</td>\n",
       "      <td>CDU</td>\n",
       "    </tr>\n",
       "    <tr>\n",
       "      <th>173963</th>\n",
       "      <td>AfD Party</td>\n",
       "      <td>AfD</td>\n",
       "    </tr>\n",
       "    <tr>\n",
       "      <th>174481</th>\n",
       "      <td>CDU Party</td>\n",
       "      <td>CDU</td>\n",
       "    </tr>\n",
       "    <tr>\n",
       "      <th>174974</th>\n",
       "      <td>SPD Party</td>\n",
       "      <td>SPD</td>\n",
       "    </tr>\n",
       "    <tr>\n",
       "      <th>175488</th>\n",
       "      <td>CSU Party</td>\n",
       "      <td>CSU</td>\n",
       "    </tr>\n",
       "    <tr>\n",
       "      <th>176078</th>\n",
       "      <td>GRÜNE Party</td>\n",
       "      <td>GRÜNE</td>\n",
       "    </tr>\n",
       "    <tr>\n",
       "      <th>176425</th>\n",
       "      <td>FDP Party</td>\n",
       "      <td>FDP</td>\n",
       "    </tr>\n",
       "    <tr>\n",
       "      <th>176969</th>\n",
       "      <td>DIE LINKE Party</td>\n",
       "      <td>DIE LINKE</td>\n",
       "    </tr>\n",
       "  </tbody>\n",
       "</table>\n",
       "</div>"
      ],
      "text/plain": [
       "                    from_name Partei_ABK\n",
       "173042  Dr. Daniela De Ridder        SPD\n",
       "173559            Björn Simon        CDU\n",
       "173902   Waldemar Westermayer        CDU\n",
       "173963              AfD Party        AfD\n",
       "174481              CDU Party        CDU\n",
       "174974              SPD Party        SPD\n",
       "175488              CSU Party        CSU\n",
       "176078            GRÜNE Party      GRÜNE\n",
       "176425              FDP Party        FDP\n",
       "176969        DIE LINKE Party  DIE LINKE"
      ]
     },
     "execution_count": 4,
     "metadata": {},
     "output_type": "execute_result"
    }
   ],
   "source": [
    "candidate_data = (data.drop(['id', 'message'], axis=1)\n",
    "                      .drop_duplicates('from_name')\n",
    "#                      .set_index('from_name')\n",
    "                 )\n",
    "candidate_data.tail(10)"
   ]
  },
  {
   "cell_type": "code",
   "execution_count": 5,
   "metadata": {
    "ExecuteTime": {
     "end_time": "2018-01-09T23:35:14.489171Z",
     "start_time": "2018-01-09T23:34:59.749274Z"
    },
    "scrolled": false
   },
   "outputs": [],
   "source": [
    "for char in ['SPD', 'spd', 'FDP', 'fdp', 'CDU' 'cdu', 'AfD' 'afd', 'AFD', 'Grüne', 'GRÜNE', 'Die Grünen', 'GRÜNEN', 'Linke', 'LINKE', 'CSU', 'csu', 'Die Linke', 'DIE LINKE',]:\n",
    "        data.message = data.message.str.replace(char, '')"
   ]
  },
  {
   "cell_type": "code",
   "execution_count": 6,
   "metadata": {
    "ExecuteTime": {
     "end_time": "2018-01-09T23:35:15.059076Z",
     "start_time": "2018-01-09T23:35:14.497178Z"
    },
    "scrolled": false
   },
   "outputs": [
    {
     "data": {
      "text/plain": [
       "False"
      ]
     },
     "execution_count": 6,
     "metadata": {},
     "output_type": "execute_result"
    }
   ],
   "source": [
    "any(data.message.str.count('FDP')>0)"
   ]
  },
  {
   "cell_type": "code",
   "execution_count": 7,
   "metadata": {
    "ExecuteTime": {
     "end_time": "2018-01-09T23:36:40.909863Z",
     "start_time": "2018-01-09T23:35:15.068083Z"
    },
    "scrolled": false
   },
   "outputs": [],
   "source": [
    "tokenizer = RegexpTokenizer(r'\\w+')\n",
    "stopword_set = set(stopwords.words('german'))\n",
    "MessageDoc = namedtuple('MessageDoc', 'words tags split')\n",
    "alldocs = []  # Will hold all doacs in original order\n",
    "for line_no, line in data.iterrows():\n",
    "    #import pdb; pdb.set_trace()\n",
    "    message = line.message.lower()\n",
    "    words = tokenizer.tokenize(message)\n",
    "    tags = [str(line_no), line['from_name'], line['Partei_ABK']] # line_no needs to be converted as string to be included in tags \n",
    "    split = ['train', 'test', 'extra', 'extra'][line_no//200000]  # 25k train, 25k test, 25k extra\n",
    "    alldocs.append(MessageDoc(words, tags, split))"
   ]
  },
  {
   "cell_type": "code",
   "execution_count": 9,
   "metadata": {
    "ExecuteTime": {
     "end_time": "2018-01-09T23:36:41.229589Z",
     "start_time": "2018-01-09T23:36:41.150535Z"
    },
    "scrolled": false
   },
   "outputs": [
    {
     "data": {
      "text/plain": [
       "177307"
      ]
     },
     "execution_count": 9,
     "metadata": {},
     "output_type": "execute_result"
    }
   ],
   "source": [
    "len(alldocs)"
   ]
  },
  {
   "cell_type": "markdown",
   "metadata": {},
   "source": [
    "# Model training"
   ]
  },
  {
   "cell_type": "code",
   "execution_count": 10,
   "metadata": {
    "ExecuteTime": {
     "end_time": "2018-01-09T23:36:41.263615Z",
     "start_time": "2018-01-09T23:36:41.236595Z"
    },
    "scrolled": false
   },
   "outputs": [],
   "source": [
    "cores = multiprocessing.cpu_count()\n",
    "assert gensim.models.doc2vec.FAST_VERSION > -1, \"This will be painfully slow otherwise\""
   ]
  },
  {
   "cell_type": "code",
   "execution_count": 11,
   "metadata": {
    "ExecuteTime": {
     "end_time": "2018-01-09T23:42:13.172947Z",
     "start_time": "2018-01-09T23:36:41.269618Z"
    },
    "scrolled": true
   },
   "outputs": [
    {
     "data": {
      "text/plain": [
       "14213685"
      ]
     },
     "execution_count": 11,
     "metadata": {},
     "output_type": "execute_result"
    }
   ],
   "source": [
    "model = gensim.models.Doc2Vec(dm=0, size=100, min_count=5)\n",
    "model.build_vocab(alldocs)\n",
    "model.train(alldocs, total_examples=model.corpus_count, epochs=2, start_alpha=0.025, end_alpha=0.001)"
   ]
  },
  {
   "cell_type": "code",
   "execution_count": 12,
   "metadata": {
    "ExecuteTime": {
     "end_time": "2018-01-09T23:42:13.249365Z",
     "start_time": "2018-01-09T23:42:13.203971Z"
    },
    "scrolled": true
   },
   "outputs": [],
   "source": [
    "# saving the model doesn't work. Why?\n",
    "#model.save(os.path.join(models_dir, 'doc2vec_c.model'))\n",
    "#logger.info('model saved')"
   ]
  },
  {
   "cell_type": "markdown",
   "metadata": {},
   "source": [
    "# Assessing similarity between candidate and parties"
   ]
  },
  {
   "cell_type": "code",
   "execution_count": 13,
   "metadata": {
    "ExecuteTime": {
     "end_time": "2018-01-09T23:42:13.286895Z",
     "start_time": "2018-01-09T23:42:13.255869Z"
    },
    "scrolled": false
   },
   "outputs": [],
   "source": [
    "word_vecs = model.wv\n",
    "doc_vecs = model.docvecs"
   ]
  },
  {
   "cell_type": "code",
   "execution_count": 14,
   "metadata": {
    "ExecuteTime": {
     "end_time": "2018-01-09T23:42:13.307910Z",
     "start_time": "2018-01-09T23:42:13.294901Z"
    },
    "scrolled": false
   },
   "outputs": [],
   "source": [
    "#doc_vecs.doctags['FDP']\n",
    "#word_vecs.vocab"
   ]
  },
  {
   "cell_type": "code",
   "execution_count": 15,
   "metadata": {
    "ExecuteTime": {
     "end_time": "2018-01-09T23:42:13.520926Z",
     "start_time": "2018-01-09T23:42:13.315917Z"
    },
    "scrolled": false
   },
   "outputs": [
    {
     "data": {
      "text/html": [
       "<div>\n",
       "<style scoped>\n",
       "    .dataframe tbody tr th:only-of-type {\n",
       "        vertical-align: middle;\n",
       "    }\n",
       "\n",
       "    .dataframe tbody tr th {\n",
       "        vertical-align: top;\n",
       "    }\n",
       "\n",
       "    .dataframe thead th {\n",
       "        text-align: right;\n",
       "    }\n",
       "</style>\n",
       "<table border=\"1\" class=\"dataframe\">\n",
       "  <thead>\n",
       "    <tr style=\"text-align: right;\">\n",
       "      <th></th>\n",
       "      <th>from_name</th>\n",
       "      <th>Partei_ABK</th>\n",
       "    </tr>\n",
       "  </thead>\n",
       "  <tbody>\n",
       "    <tr>\n",
       "      <th>173042</th>\n",
       "      <td>Dr. Daniela De Ridder</td>\n",
       "      <td>SPD</td>\n",
       "    </tr>\n",
       "    <tr>\n",
       "      <th>173559</th>\n",
       "      <td>Björn Simon</td>\n",
       "      <td>CDU</td>\n",
       "    </tr>\n",
       "    <tr>\n",
       "      <th>173902</th>\n",
       "      <td>Waldemar Westermayer</td>\n",
       "      <td>CDU</td>\n",
       "    </tr>\n",
       "    <tr>\n",
       "      <th>173963</th>\n",
       "      <td>AfD Party</td>\n",
       "      <td>AfD</td>\n",
       "    </tr>\n",
       "    <tr>\n",
       "      <th>174481</th>\n",
       "      <td>CDU Party</td>\n",
       "      <td>CDU</td>\n",
       "    </tr>\n",
       "    <tr>\n",
       "      <th>174974</th>\n",
       "      <td>SPD Party</td>\n",
       "      <td>SPD</td>\n",
       "    </tr>\n",
       "    <tr>\n",
       "      <th>175488</th>\n",
       "      <td>CSU Party</td>\n",
       "      <td>CSU</td>\n",
       "    </tr>\n",
       "    <tr>\n",
       "      <th>176078</th>\n",
       "      <td>GRÜNE Party</td>\n",
       "      <td>GRÜNE</td>\n",
       "    </tr>\n",
       "    <tr>\n",
       "      <th>176425</th>\n",
       "      <td>FDP Party</td>\n",
       "      <td>FDP</td>\n",
       "    </tr>\n",
       "    <tr>\n",
       "      <th>176969</th>\n",
       "      <td>DIE LINKE Party</td>\n",
       "      <td>DIE LINKE</td>\n",
       "    </tr>\n",
       "  </tbody>\n",
       "</table>\n",
       "</div>"
      ],
      "text/plain": [
       "                    from_name Partei_ABK\n",
       "173042  Dr. Daniela De Ridder        SPD\n",
       "173559            Björn Simon        CDU\n",
       "173902   Waldemar Westermayer        CDU\n",
       "173963              AfD Party        AfD\n",
       "174481              CDU Party        CDU\n",
       "174974              SPD Party        SPD\n",
       "175488              CSU Party        CSU\n",
       "176078            GRÜNE Party      GRÜNE\n",
       "176425              FDP Party        FDP\n",
       "176969        DIE LINKE Party  DIE LINKE"
      ]
     },
     "execution_count": 15,
     "metadata": {},
     "output_type": "execute_result"
    }
   ],
   "source": [
    "candidate_data.tail(10)"
   ]
  },
  {
   "cell_type": "code",
   "execution_count": 16,
   "metadata": {
    "ExecuteTime": {
     "end_time": "2018-01-09T23:42:15.004955Z",
     "start_time": "2018-01-09T23:42:13.525929Z"
    },
    "scrolled": true
   },
   "outputs": [
    {
     "data": {
      "text/html": [
       "<div>\n",
       "<style scoped>\n",
       "    .dataframe tbody tr th:only-of-type {\n",
       "        vertical-align: middle;\n",
       "    }\n",
       "\n",
       "    .dataframe tbody tr th {\n",
       "        vertical-align: top;\n",
       "    }\n",
       "\n",
       "    .dataframe thead th {\n",
       "        text-align: right;\n",
       "    }\n",
       "</style>\n",
       "<table border=\"1\" class=\"dataframe\">\n",
       "  <thead>\n",
       "    <tr style=\"text-align: right;\">\n",
       "      <th></th>\n",
       "      <th>from_name</th>\n",
       "      <th>Partei_ABK</th>\n",
       "      <th>SPD Party</th>\n",
       "      <th>CDU Party</th>\n",
       "      <th>DIE LINKE Party</th>\n",
       "      <th>AfD Party</th>\n",
       "      <th>CSU Party</th>\n",
       "      <th>GRÜNE Party</th>\n",
       "      <th>FDP Party</th>\n",
       "      <th>most similar</th>\n",
       "    </tr>\n",
       "  </thead>\n",
       "  <tbody>\n",
       "    <tr>\n",
       "      <th>0</th>\n",
       "      <td>Valentin Abel</td>\n",
       "      <td>FDP</td>\n",
       "      <td>0.378756</td>\n",
       "      <td>0.359881</td>\n",
       "      <td>0.350436</td>\n",
       "      <td>0.213246</td>\n",
       "      <td>0.391339</td>\n",
       "      <td>0.451685</td>\n",
       "      <td>0.810069</td>\n",
       "      <td>FDP Party</td>\n",
       "    </tr>\n",
       "    <tr>\n",
       "      <th>93</th>\n",
       "      <td>Dr. Michael von Abercron</td>\n",
       "      <td>CDU</td>\n",
       "      <td>0.454485</td>\n",
       "      <td>0.712649</td>\n",
       "      <td>0.353469</td>\n",
       "      <td>0.300430</td>\n",
       "      <td>0.412321</td>\n",
       "      <td>0.429839</td>\n",
       "      <td>0.404117</td>\n",
       "      <td>CDU Party</td>\n",
       "    </tr>\n",
       "    <tr>\n",
       "      <th>168</th>\n",
       "      <td>Grigorios Aggelidis</td>\n",
       "      <td>FDP</td>\n",
       "      <td>0.430420</td>\n",
       "      <td>0.373238</td>\n",
       "      <td>0.376819</td>\n",
       "      <td>0.307115</td>\n",
       "      <td>0.386823</td>\n",
       "      <td>0.418811</td>\n",
       "      <td>0.623445</td>\n",
       "      <td>FDP Party</td>\n",
       "    </tr>\n",
       "    <tr>\n",
       "      <th>215</th>\n",
       "      <td>Diyar Agu</td>\n",
       "      <td>DIE LINKE</td>\n",
       "      <td>0.416359</td>\n",
       "      <td>0.490433</td>\n",
       "      <td>0.785106</td>\n",
       "      <td>0.235333</td>\n",
       "      <td>0.217756</td>\n",
       "      <td>0.375802</td>\n",
       "      <td>0.477791</td>\n",
       "      <td>DIE LINKE Party</td>\n",
       "    </tr>\n",
       "    <tr>\n",
       "      <th>269</th>\n",
       "      <td>Gökay Akbulut DIE LINKE</td>\n",
       "      <td>DIE LINKE</td>\n",
       "      <td>0.554210</td>\n",
       "      <td>0.439245</td>\n",
       "      <td>0.662877</td>\n",
       "      <td>0.322512</td>\n",
       "      <td>0.430060</td>\n",
       "      <td>0.615543</td>\n",
       "      <td>0.494110</td>\n",
       "      <td>DIE LINKE Party</td>\n",
       "    </tr>\n",
       "  </tbody>\n",
       "</table>\n",
       "</div>"
      ],
      "text/plain": [
       "                    from_name Partei_ABK  SPD Party  CDU Party  \\\n",
       "0               Valentin Abel        FDP   0.378756   0.359881   \n",
       "93   Dr. Michael von Abercron        CDU   0.454485   0.712649   \n",
       "168       Grigorios Aggelidis        FDP   0.430420   0.373238   \n",
       "215                 Diyar Agu  DIE LINKE   0.416359   0.490433   \n",
       "269   Gökay Akbulut DIE LINKE  DIE LINKE   0.554210   0.439245   \n",
       "\n",
       "     DIE LINKE Party  AfD Party  CSU Party  GRÜNE Party  FDP Party  \\\n",
       "0           0.350436   0.213246   0.391339     0.451685   0.810069   \n",
       "93          0.353469   0.300430   0.412321     0.429839   0.404117   \n",
       "168         0.376819   0.307115   0.386823     0.418811   0.623445   \n",
       "215         0.785106   0.235333   0.217756     0.375802   0.477791   \n",
       "269         0.662877   0.322512   0.430060     0.615543   0.494110   \n",
       "\n",
       "        most similar  \n",
       "0          FDP Party  \n",
       "93         CDU Party  \n",
       "168        FDP Party  \n",
       "215  DIE LINKE Party  \n",
       "269  DIE LINKE Party  "
      ]
     },
     "execution_count": 16,
     "metadata": {},
     "output_type": "execute_result"
    }
   ],
   "source": [
    "# calculate similarity for all candidates and parties\n",
    "for party in ['SPD Party', 'CDU Party', 'DIE LINKE Party', 'AfD Party', 'CSU Party', 'GRÜNE Party', 'FDP Party']:\n",
    "    candidate_data[party] = candidate_data['from_name'].map(lambda candidate: model.docvecs.similarity(candidate, party))\n",
    "    \n",
    "# make a new column holding which party is most similar\n",
    "candidate_data['most similar'] = candidate_data.loc[:,'SPD Party':].idxmax(axis=1)\n",
    "candidate_data.head()"
   ]
  },
  {
   "cell_type": "code",
   "execution_count": 17,
   "metadata": {
    "ExecuteTime": {
     "end_time": "2018-01-09T23:42:15.036980Z",
     "start_time": "2018-01-09T23:42:15.018966Z"
    },
    "scrolled": false
   },
   "outputs": [
    {
     "data": {
      "text/plain": [
       "(1008, 10)"
      ]
     },
     "execution_count": 17,
     "metadata": {},
     "output_type": "execute_result"
    }
   ],
   "source": [
    "candidate_data.shape"
   ]
  },
  {
   "cell_type": "code",
   "execution_count": 18,
   "metadata": {
    "ExecuteTime": {
     "end_time": "2018-01-09T23:42:15.149561Z",
     "start_time": "2018-01-09T23:42:15.041982Z"
    },
    "scrolled": false
   },
   "outputs": [],
   "source": [
    "most_similar_candidates = pd.crosstab(candidate_data['Partei_ABK'], candidate_data['most similar'])"
   ]
  },
  {
   "cell_type": "code",
   "execution_count": 19,
   "metadata": {
    "ExecuteTime": {
     "end_time": "2018-01-09T23:44:18.551538Z",
     "start_time": "2018-01-09T23:44:18.527034Z"
    },
    "scrolled": false
   },
   "outputs": [
    {
     "data": {
      "text/html": [
       "<div>\n",
       "<style scoped>\n",
       "    .dataframe tbody tr th:only-of-type {\n",
       "        vertical-align: middle;\n",
       "    }\n",
       "\n",
       "    .dataframe tbody tr th {\n",
       "        vertical-align: top;\n",
       "    }\n",
       "\n",
       "    .dataframe thead th {\n",
       "        text-align: right;\n",
       "    }\n",
       "</style>\n",
       "<table border=\"1\" class=\"dataframe\">\n",
       "  <thead>\n",
       "    <tr style=\"text-align: right;\">\n",
       "      <th>most similar</th>\n",
       "      <th>AfD Party</th>\n",
       "      <th>CDU Party</th>\n",
       "      <th>CSU Party</th>\n",
       "      <th>DIE LINKE Party</th>\n",
       "      <th>FDP Party</th>\n",
       "      <th>GRÜNE Party</th>\n",
       "      <th>SPD Party</th>\n",
       "    </tr>\n",
       "    <tr>\n",
       "      <th>Partei_ABK</th>\n",
       "      <th></th>\n",
       "      <th></th>\n",
       "      <th></th>\n",
       "      <th></th>\n",
       "      <th></th>\n",
       "      <th></th>\n",
       "      <th></th>\n",
       "    </tr>\n",
       "  </thead>\n",
       "  <tbody>\n",
       "    <tr>\n",
       "      <th>AfD</th>\n",
       "      <td>121</td>\n",
       "      <td>0</td>\n",
       "      <td>1</td>\n",
       "      <td>1</td>\n",
       "      <td>0</td>\n",
       "      <td>1</td>\n",
       "      <td>0</td>\n",
       "    </tr>\n",
       "    <tr>\n",
       "      <th>CDU</th>\n",
       "      <td>5</td>\n",
       "      <td>179</td>\n",
       "      <td>9</td>\n",
       "      <td>4</td>\n",
       "      <td>2</td>\n",
       "      <td>6</td>\n",
       "      <td>4</td>\n",
       "    </tr>\n",
       "    <tr>\n",
       "      <th>CSU</th>\n",
       "      <td>0</td>\n",
       "      <td>0</td>\n",
       "      <td>46</td>\n",
       "      <td>0</td>\n",
       "      <td>0</td>\n",
       "      <td>0</td>\n",
       "      <td>0</td>\n",
       "    </tr>\n",
       "    <tr>\n",
       "      <th>DIE LINKE</th>\n",
       "      <td>0</td>\n",
       "      <td>0</td>\n",
       "      <td>0</td>\n",
       "      <td>111</td>\n",
       "      <td>0</td>\n",
       "      <td>0</td>\n",
       "      <td>0</td>\n",
       "    </tr>\n",
       "    <tr>\n",
       "      <th>FDP</th>\n",
       "      <td>3</td>\n",
       "      <td>0</td>\n",
       "      <td>1</td>\n",
       "      <td>3</td>\n",
       "      <td>162</td>\n",
       "      <td>3</td>\n",
       "      <td>1</td>\n",
       "    </tr>\n",
       "    <tr>\n",
       "      <th>GRÜNE</th>\n",
       "      <td>0</td>\n",
       "      <td>0</td>\n",
       "      <td>0</td>\n",
       "      <td>6</td>\n",
       "      <td>1</td>\n",
       "      <td>87</td>\n",
       "      <td>1</td>\n",
       "    </tr>\n",
       "    <tr>\n",
       "      <th>SPD</th>\n",
       "      <td>2</td>\n",
       "      <td>3</td>\n",
       "      <td>18</td>\n",
       "      <td>13</td>\n",
       "      <td>1</td>\n",
       "      <td>7</td>\n",
       "      <td>206</td>\n",
       "    </tr>\n",
       "  </tbody>\n",
       "</table>\n",
       "</div>"
      ],
      "text/plain": [
       "most similar  AfD Party  CDU Party  CSU Party  DIE LINKE Party  FDP Party  \\\n",
       "Partei_ABK                                                                  \n",
       "AfD                 121          0          1                1          0   \n",
       "CDU                   5        179          9                4          2   \n",
       "CSU                   0          0         46                0          0   \n",
       "DIE LINKE             0          0          0              111          0   \n",
       "FDP                   3          0          1                3        162   \n",
       "GRÜNE                 0          0          0                6          1   \n",
       "SPD                   2          3         18               13          1   \n",
       "\n",
       "most similar  GRÜNE Party  SPD Party  \n",
       "Partei_ABK                            \n",
       "AfD                     1          0  \n",
       "CDU                     6          4  \n",
       "CSU                     0          0  \n",
       "DIE LINKE               0          0  \n",
       "FDP                     3          1  \n",
       "GRÜNE                  87          1  \n",
       "SPD                     7        206  "
      ]
     },
     "execution_count": 19,
     "metadata": {},
     "output_type": "execute_result"
    }
   ],
   "source": [
    "most_similar_candidates"
   ]
  },
  {
   "cell_type": "code",
   "execution_count": 59,
   "metadata": {
    "ExecuteTime": {
     "end_time": "2018-01-10T01:17:58.866882Z",
     "start_time": "2018-01-10T01:17:58.813836Z"
    },
    "scrolled": false
   },
   "outputs": [],
   "source": [
    "# calculate average similarity of party candidates\n",
    "candidate_data2 = (candidate_data\n",
    "                   .set_index(['Partei_ABK', 'from_name'])\n",
    "                   .drop(columns='most similar')\n",
    "                   .rename_axis('party_similarity', axis='columns')\n",
    "                   .sort_index()\n",
    "                  )\n",
    "\n",
    "candidate_data3 = candidate_data2.stack().reset_index()"
   ]
  },
  {
   "cell_type": "code",
   "execution_count": null,
   "metadata": {
    "ExecuteTime": {
     "end_time": "2018-01-10T01:17:28.063505Z",
     "start_time": "2018-01-10T01:17:27.915387Z"
    },
    "scrolled": true
   },
   "outputs": [],
   "source": [
    "candidate_data2.head()"
   ]
  },
  {
   "cell_type": "code",
   "execution_count": null,
   "metadata": {
    "ExecuteTime": {
     "end_time": "2018-01-10T01:18:03.182195Z",
     "start_time": "2018-01-10T01:18:03.107143Z"
    },
    "scrolled": true
   },
   "outputs": [],
   "source": [
    "candidate_data3.head()"
   ]
  },
  {
   "cell_type": "code",
   "execution_count": 100,
   "metadata": {
    "ExecuteTime": {
     "end_time": "2018-01-10T02:14:28.078764Z",
     "start_time": "2018-01-10T02:14:28.020221Z"
    },
    "scrolled": false
   },
   "outputs": [],
   "source": [
    "average_similarity = pd.pivot_table(data=candidate_data3,\n",
    "                                    index='Partei_ABK',\n",
    "                                    columns='party_similarity',\n",
    "                                    values=0,\n",
    "                                    aggfunc='mean'\n",
    "                                    ).round(decimals=2)"
   ]
  },
  {
   "cell_type": "code",
   "execution_count": 99,
   "metadata": {
    "ExecuteTime": {
     "end_time": "2018-01-10T02:14:23.124586Z",
     "start_time": "2018-01-10T02:14:23.036019Z"
    },
    "scrolled": false
   },
   "outputs": [
    {
     "data": {
      "text/html": [
       "<style  type=\"text/css\" >\n",
       "    #T_f96ee1dc_f5ab_11e7_8da1_028037ec0200row0_col0 {\n",
       "            background-color:  #5050ff;\n",
       "        }    #T_f96ee1dc_f5ab_11e7_8da1_028037ec0200row0_col1 {\n",
       "            background-color:  #9e9eff;\n",
       "        }    #T_f96ee1dc_f5ab_11e7_8da1_028037ec0200row0_col2 {\n",
       "            background-color:  #9191ff;\n",
       "        }    #T_f96ee1dc_f5ab_11e7_8da1_028037ec0200row0_col3 {\n",
       "            background-color:  #9595ff;\n",
       "        }    #T_f96ee1dc_f5ab_11e7_8da1_028037ec0200row0_col4 {\n",
       "            background-color:  #9d9dff;\n",
       "        }    #T_f96ee1dc_f5ab_11e7_8da1_028037ec0200row0_col5 {\n",
       "            background-color:  #8e8eff;\n",
       "        }    #T_f96ee1dc_f5ab_11e7_8da1_028037ec0200row0_col6 {\n",
       "            background-color:  #9a9aff;\n",
       "        }    #T_f96ee1dc_f5ab_11e7_8da1_028037ec0200row0_col7 {\n",
       "            background-color:  #e5e5ff;\n",
       "        }    #T_f96ee1dc_f5ab_11e7_8da1_028037ec0200row0_col8 {\n",
       "            background-color:  #0000ff;\n",
       "        }    #T_f96ee1dc_f5ab_11e7_8da1_028037ec0200row1_col0 {\n",
       "            background-color:  #afafff;\n",
       "        }    #T_f96ee1dc_f5ab_11e7_8da1_028037ec0200row1_col1 {\n",
       "            background-color:  #7575ff;\n",
       "        }    #T_f96ee1dc_f5ab_11e7_8da1_028037ec0200row1_col2 {\n",
       "            background-color:  #9a9aff;\n",
       "        }    #T_f96ee1dc_f5ab_11e7_8da1_028037ec0200row1_col3 {\n",
       "            background-color:  #b1b1ff;\n",
       "        }    #T_f96ee1dc_f5ab_11e7_8da1_028037ec0200row1_col4 {\n",
       "            background-color:  #a7a7ff;\n",
       "        }    #T_f96ee1dc_f5ab_11e7_8da1_028037ec0200row1_col5 {\n",
       "            background-color:  #a1a1ff;\n",
       "        }    #T_f96ee1dc_f5ab_11e7_8da1_028037ec0200row1_col6 {\n",
       "            background-color:  #a1a1ff;\n",
       "        }    #T_f96ee1dc_f5ab_11e7_8da1_028037ec0200row1_col7 {\n",
       "            background-color:  #e5e5ff;\n",
       "        }    #T_f96ee1dc_f5ab_11e7_8da1_028037ec0200row1_col8 {\n",
       "            background-color:  #0000ff;\n",
       "        }    #T_f96ee1dc_f5ab_11e7_8da1_028037ec0200row2_col0 {\n",
       "            background-color:  #aaaaff;\n",
       "        }    #T_f96ee1dc_f5ab_11e7_8da1_028037ec0200row2_col1 {\n",
       "            background-color:  #9191ff;\n",
       "        }    #T_f96ee1dc_f5ab_11e7_8da1_028037ec0200row2_col2 {\n",
       "            background-color:  #3e3eff;\n",
       "        }    #T_f96ee1dc_f5ab_11e7_8da1_028037ec0200row2_col3 {\n",
       "            background-color:  #aaaaff;\n",
       "        }    #T_f96ee1dc_f5ab_11e7_8da1_028037ec0200row2_col4 {\n",
       "            background-color:  #9a9aff;\n",
       "        }    #T_f96ee1dc_f5ab_11e7_8da1_028037ec0200row2_col5 {\n",
       "            background-color:  #9d9dff;\n",
       "        }    #T_f96ee1dc_f5ab_11e7_8da1_028037ec0200row2_col6 {\n",
       "            background-color:  #a3a3ff;\n",
       "        }    #T_f96ee1dc_f5ab_11e7_8da1_028037ec0200row2_col7 {\n",
       "            background-color:  #e5e5ff;\n",
       "        }    #T_f96ee1dc_f5ab_11e7_8da1_028037ec0200row2_col8 {\n",
       "            background-color:  #0000ff;\n",
       "        }    #T_f96ee1dc_f5ab_11e7_8da1_028037ec0200row3_col0 {\n",
       "            background-color:  #aaaaff;\n",
       "        }    #T_f96ee1dc_f5ab_11e7_8da1_028037ec0200row3_col1 {\n",
       "            background-color:  #a7a7ff;\n",
       "        }    #T_f96ee1dc_f5ab_11e7_8da1_028037ec0200row3_col2 {\n",
       "            background-color:  #afafff;\n",
       "        }    #T_f96ee1dc_f5ab_11e7_8da1_028037ec0200row3_col3 {\n",
       "            background-color:  #4444ff;\n",
       "        }    #T_f96ee1dc_f5ab_11e7_8da1_028037ec0200row3_col4 {\n",
       "            background-color:  #9e9eff;\n",
       "        }    #T_f96ee1dc_f5ab_11e7_8da1_028037ec0200row3_col5 {\n",
       "            background-color:  #8c8cff;\n",
       "        }    #T_f96ee1dc_f5ab_11e7_8da1_028037ec0200row3_col6 {\n",
       "            background-color:  #9191ff;\n",
       "        }    #T_f96ee1dc_f5ab_11e7_8da1_028037ec0200row3_col7 {\n",
       "            background-color:  #e5e5ff;\n",
       "        }    #T_f96ee1dc_f5ab_11e7_8da1_028037ec0200row3_col8 {\n",
       "            background-color:  #0000ff;\n",
       "        }    #T_f96ee1dc_f5ab_11e7_8da1_028037ec0200row4_col0 {\n",
       "            background-color:  #a1a1ff;\n",
       "        }    #T_f96ee1dc_f5ab_11e7_8da1_028037ec0200row4_col1 {\n",
       "            background-color:  #8a8aff;\n",
       "        }    #T_f96ee1dc_f5ab_11e7_8da1_028037ec0200row4_col2 {\n",
       "            background-color:  #8c8cff;\n",
       "        }    #T_f96ee1dc_f5ab_11e7_8da1_028037ec0200row4_col3 {\n",
       "            background-color:  #8a8aff;\n",
       "        }    #T_f96ee1dc_f5ab_11e7_8da1_028037ec0200row4_col4 {\n",
       "            background-color:  #4949ff;\n",
       "        }    #T_f96ee1dc_f5ab_11e7_8da1_028037ec0200row4_col5 {\n",
       "            background-color:  #8a8aff;\n",
       "        }    #T_f96ee1dc_f5ab_11e7_8da1_028037ec0200row4_col6 {\n",
       "            background-color:  #8e8eff;\n",
       "        }    #T_f96ee1dc_f5ab_11e7_8da1_028037ec0200row4_col7 {\n",
       "            background-color:  #e5e5ff;\n",
       "        }    #T_f96ee1dc_f5ab_11e7_8da1_028037ec0200row4_col8 {\n",
       "            background-color:  #0000ff;\n",
       "        }    #T_f96ee1dc_f5ab_11e7_8da1_028037ec0200row5_col0 {\n",
       "            background-color:  #afafff;\n",
       "        }    #T_f96ee1dc_f5ab_11e7_8da1_028037ec0200row5_col1 {\n",
       "            background-color:  #a1a1ff;\n",
       "        }    #T_f96ee1dc_f5ab_11e7_8da1_028037ec0200row5_col2 {\n",
       "            background-color:  #9e9eff;\n",
       "        }    #T_f96ee1dc_f5ab_11e7_8da1_028037ec0200row5_col3 {\n",
       "            background-color:  #7a7aff;\n",
       "        }    #T_f96ee1dc_f5ab_11e7_8da1_028037ec0200row5_col4 {\n",
       "            background-color:  #9797ff;\n",
       "        }    #T_f96ee1dc_f5ab_11e7_8da1_028037ec0200row5_col5 {\n",
       "            background-color:  #4949ff;\n",
       "        }    #T_f96ee1dc_f5ab_11e7_8da1_028037ec0200row5_col6 {\n",
       "            background-color:  #8e8eff;\n",
       "        }    #T_f96ee1dc_f5ab_11e7_8da1_028037ec0200row5_col7 {\n",
       "            background-color:  #e5e5ff;\n",
       "        }    #T_f96ee1dc_f5ab_11e7_8da1_028037ec0200row5_col8 {\n",
       "            background-color:  #0000ff;\n",
       "        }    #T_f96ee1dc_f5ab_11e7_8da1_028037ec0200row6_col0 {\n",
       "            background-color:  #b3b3ff;\n",
       "        }    #T_f96ee1dc_f5ab_11e7_8da1_028037ec0200row6_col1 {\n",
       "            background-color:  #a3a3ff;\n",
       "        }    #T_f96ee1dc_f5ab_11e7_8da1_028037ec0200row6_col2 {\n",
       "            background-color:  #a6a6ff;\n",
       "        }    #T_f96ee1dc_f5ab_11e7_8da1_028037ec0200row6_col3 {\n",
       "            background-color:  #9797ff;\n",
       "        }    #T_f96ee1dc_f5ab_11e7_8da1_028037ec0200row6_col4 {\n",
       "            background-color:  #acacff;\n",
       "        }    #T_f96ee1dc_f5ab_11e7_8da1_028037ec0200row6_col5 {\n",
       "            background-color:  #9797ff;\n",
       "        }    #T_f96ee1dc_f5ab_11e7_8da1_028037ec0200row6_col6 {\n",
       "            background-color:  #6e6eff;\n",
       "        }    #T_f96ee1dc_f5ab_11e7_8da1_028037ec0200row6_col7 {\n",
       "            background-color:  #e5e5ff;\n",
       "        }    #T_f96ee1dc_f5ab_11e7_8da1_028037ec0200row6_col8 {\n",
       "            background-color:  #0000ff;\n",
       "        }</style>  \n",
       "<table id=\"T_f96ee1dc_f5ab_11e7_8da1_028037ec0200\" > \n",
       "<thead>    <tr> \n",
       "        <th class=\"index_name level0\" >party_similarity</th> \n",
       "        <th class=\"col_heading level0 col0\" >AfD Party</th> \n",
       "        <th class=\"col_heading level0 col1\" >CDU Party</th> \n",
       "        <th class=\"col_heading level0 col2\" >CSU Party</th> \n",
       "        <th class=\"col_heading level0 col3\" >DIE LINKE Party</th> \n",
       "        <th class=\"col_heading level0 col4\" >FDP Party</th> \n",
       "        <th class=\"col_heading level0 col5\" >GRÜNE Party</th> \n",
       "        <th class=\"col_heading level0 col6\" >SPD Party</th> \n",
       "        <th class=\"col_heading level0 col7\" >0</th> \n",
       "        <th class=\"col_heading level0 col8\" >1</th> \n",
       "    </tr>    <tr> \n",
       "        <th class=\"index_name level0\" >Partei_ABK</th> \n",
       "        <th class=\"blank\" ></th> \n",
       "        <th class=\"blank\" ></th> \n",
       "        <th class=\"blank\" ></th> \n",
       "        <th class=\"blank\" ></th> \n",
       "        <th class=\"blank\" ></th> \n",
       "        <th class=\"blank\" ></th> \n",
       "        <th class=\"blank\" ></th> \n",
       "        <th class=\"blank\" ></th> \n",
       "        <th class=\"blank\" ></th> \n",
       "    </tr></thead> \n",
       "<tbody>    <tr> \n",
       "        <th id=\"T_f96ee1dc_f5ab_11e7_8da1_028037ec0200level0_row0\" class=\"row_heading level0 row0\" >AfD</th> \n",
       "        <td id=\"T_f96ee1dc_f5ab_11e7_8da1_028037ec0200row0_col0\" class=\"data row0 col0\" >0.65</td> \n",
       "        <td id=\"T_f96ee1dc_f5ab_11e7_8da1_028037ec0200row0_col1\" class=\"data row0 col1\" >0.31</td> \n",
       "        <td id=\"T_f96ee1dc_f5ab_11e7_8da1_028037ec0200row0_col2\" class=\"data row0 col2\" >0.37</td> \n",
       "        <td id=\"T_f96ee1dc_f5ab_11e7_8da1_028037ec0200row0_col3\" class=\"data row0 col3\" >0.35</td> \n",
       "        <td id=\"T_f96ee1dc_f5ab_11e7_8da1_028037ec0200row0_col4\" class=\"data row0 col4\" >0.32</td> \n",
       "        <td id=\"T_f96ee1dc_f5ab_11e7_8da1_028037ec0200row0_col5\" class=\"data row0 col5\" >0.38</td> \n",
       "        <td id=\"T_f96ee1dc_f5ab_11e7_8da1_028037ec0200row0_col6\" class=\"data row0 col6\" >0.33</td> \n",
       "        <td id=\"T_f96ee1dc_f5ab_11e7_8da1_028037ec0200row0_col7\" class=\"data row0 col7\" >0</td> \n",
       "        <td id=\"T_f96ee1dc_f5ab_11e7_8da1_028037ec0200row0_col8\" class=\"data row0 col8\" >1</td> \n",
       "    </tr>    <tr> \n",
       "        <th id=\"T_f96ee1dc_f5ab_11e7_8da1_028037ec0200level0_row1\" class=\"row_heading level0 row1\" >CDU</th> \n",
       "        <td id=\"T_f96ee1dc_f5ab_11e7_8da1_028037ec0200row1_col0\" class=\"data row1 col0\" >0.24</td> \n",
       "        <td id=\"T_f96ee1dc_f5ab_11e7_8da1_028037ec0200row1_col1\" class=\"data row1 col1\" >0.49</td> \n",
       "        <td id=\"T_f96ee1dc_f5ab_11e7_8da1_028037ec0200row1_col2\" class=\"data row1 col2\" >0.33</td> \n",
       "        <td id=\"T_f96ee1dc_f5ab_11e7_8da1_028037ec0200row1_col3\" class=\"data row1 col3\" >0.23</td> \n",
       "        <td id=\"T_f96ee1dc_f5ab_11e7_8da1_028037ec0200row1_col4\" class=\"data row1 col4\" >0.27</td> \n",
       "        <td id=\"T_f96ee1dc_f5ab_11e7_8da1_028037ec0200row1_col5\" class=\"data row1 col5\" >0.3</td> \n",
       "        <td id=\"T_f96ee1dc_f5ab_11e7_8da1_028037ec0200row1_col6\" class=\"data row1 col6\" >0.3</td> \n",
       "        <td id=\"T_f96ee1dc_f5ab_11e7_8da1_028037ec0200row1_col7\" class=\"data row1 col7\" >0</td> \n",
       "        <td id=\"T_f96ee1dc_f5ab_11e7_8da1_028037ec0200row1_col8\" class=\"data row1 col8\" >1</td> \n",
       "    </tr>    <tr> \n",
       "        <th id=\"T_f96ee1dc_f5ab_11e7_8da1_028037ec0200level0_row2\" class=\"row_heading level0 row2\" >CSU</th> \n",
       "        <td id=\"T_f96ee1dc_f5ab_11e7_8da1_028037ec0200row2_col0\" class=\"data row2 col0\" >0.26</td> \n",
       "        <td id=\"T_f96ee1dc_f5ab_11e7_8da1_028037ec0200row2_col1\" class=\"data row2 col1\" >0.37</td> \n",
       "        <td id=\"T_f96ee1dc_f5ab_11e7_8da1_028037ec0200row2_col2\" class=\"data row2 col2\" >0.73</td> \n",
       "        <td id=\"T_f96ee1dc_f5ab_11e7_8da1_028037ec0200row2_col3\" class=\"data row2 col3\" >0.26</td> \n",
       "        <td id=\"T_f96ee1dc_f5ab_11e7_8da1_028037ec0200row2_col4\" class=\"data row2 col4\" >0.33</td> \n",
       "        <td id=\"T_f96ee1dc_f5ab_11e7_8da1_028037ec0200row2_col5\" class=\"data row2 col5\" >0.32</td> \n",
       "        <td id=\"T_f96ee1dc_f5ab_11e7_8da1_028037ec0200row2_col6\" class=\"data row2 col6\" >0.29</td> \n",
       "        <td id=\"T_f96ee1dc_f5ab_11e7_8da1_028037ec0200row2_col7\" class=\"data row2 col7\" >0</td> \n",
       "        <td id=\"T_f96ee1dc_f5ab_11e7_8da1_028037ec0200row2_col8\" class=\"data row2 col8\" >1</td> \n",
       "    </tr>    <tr> \n",
       "        <th id=\"T_f96ee1dc_f5ab_11e7_8da1_028037ec0200level0_row3\" class=\"row_heading level0 row3\" >DIE LINKE</th> \n",
       "        <td id=\"T_f96ee1dc_f5ab_11e7_8da1_028037ec0200row3_col0\" class=\"data row3 col0\" >0.26</td> \n",
       "        <td id=\"T_f96ee1dc_f5ab_11e7_8da1_028037ec0200row3_col1\" class=\"data row3 col1\" >0.27</td> \n",
       "        <td id=\"T_f96ee1dc_f5ab_11e7_8da1_028037ec0200row3_col2\" class=\"data row3 col2\" >0.24</td> \n",
       "        <td id=\"T_f96ee1dc_f5ab_11e7_8da1_028037ec0200row3_col3\" class=\"data row3 col3\" >0.7</td> \n",
       "        <td id=\"T_f96ee1dc_f5ab_11e7_8da1_028037ec0200row3_col4\" class=\"data row3 col4\" >0.31</td> \n",
       "        <td id=\"T_f96ee1dc_f5ab_11e7_8da1_028037ec0200row3_col5\" class=\"data row3 col5\" >0.39</td> \n",
       "        <td id=\"T_f96ee1dc_f5ab_11e7_8da1_028037ec0200row3_col6\" class=\"data row3 col6\" >0.37</td> \n",
       "        <td id=\"T_f96ee1dc_f5ab_11e7_8da1_028037ec0200row3_col7\" class=\"data row3 col7\" >0</td> \n",
       "        <td id=\"T_f96ee1dc_f5ab_11e7_8da1_028037ec0200row3_col8\" class=\"data row3 col8\" >1</td> \n",
       "    </tr>    <tr> \n",
       "        <th id=\"T_f96ee1dc_f5ab_11e7_8da1_028037ec0200level0_row4\" class=\"row_heading level0 row4\" >FDP</th> \n",
       "        <td id=\"T_f96ee1dc_f5ab_11e7_8da1_028037ec0200row4_col0\" class=\"data row4 col0\" >0.3</td> \n",
       "        <td id=\"T_f96ee1dc_f5ab_11e7_8da1_028037ec0200row4_col1\" class=\"data row4 col1\" >0.4</td> \n",
       "        <td id=\"T_f96ee1dc_f5ab_11e7_8da1_028037ec0200row4_col2\" class=\"data row4 col2\" >0.39</td> \n",
       "        <td id=\"T_f96ee1dc_f5ab_11e7_8da1_028037ec0200row4_col3\" class=\"data row4 col3\" >0.4</td> \n",
       "        <td id=\"T_f96ee1dc_f5ab_11e7_8da1_028037ec0200row4_col4\" class=\"data row4 col4\" >0.68</td> \n",
       "        <td id=\"T_f96ee1dc_f5ab_11e7_8da1_028037ec0200row4_col5\" class=\"data row4 col5\" >0.4</td> \n",
       "        <td id=\"T_f96ee1dc_f5ab_11e7_8da1_028037ec0200row4_col6\" class=\"data row4 col6\" >0.38</td> \n",
       "        <td id=\"T_f96ee1dc_f5ab_11e7_8da1_028037ec0200row4_col7\" class=\"data row4 col7\" >0</td> \n",
       "        <td id=\"T_f96ee1dc_f5ab_11e7_8da1_028037ec0200row4_col8\" class=\"data row4 col8\" >1</td> \n",
       "    </tr>    <tr> \n",
       "        <th id=\"T_f96ee1dc_f5ab_11e7_8da1_028037ec0200level0_row5\" class=\"row_heading level0 row5\" >GRÜNE</th> \n",
       "        <td id=\"T_f96ee1dc_f5ab_11e7_8da1_028037ec0200row5_col0\" class=\"data row5 col0\" >0.24</td> \n",
       "        <td id=\"T_f96ee1dc_f5ab_11e7_8da1_028037ec0200row5_col1\" class=\"data row5 col1\" >0.3</td> \n",
       "        <td id=\"T_f96ee1dc_f5ab_11e7_8da1_028037ec0200row5_col2\" class=\"data row5 col2\" >0.31</td> \n",
       "        <td id=\"T_f96ee1dc_f5ab_11e7_8da1_028037ec0200row5_col3\" class=\"data row5 col3\" >0.47</td> \n",
       "        <td id=\"T_f96ee1dc_f5ab_11e7_8da1_028037ec0200row5_col4\" class=\"data row5 col4\" >0.34</td> \n",
       "        <td id=\"T_f96ee1dc_f5ab_11e7_8da1_028037ec0200row5_col5\" class=\"data row5 col5\" >0.68</td> \n",
       "        <td id=\"T_f96ee1dc_f5ab_11e7_8da1_028037ec0200row5_col6\" class=\"data row5 col6\" >0.38</td> \n",
       "        <td id=\"T_f96ee1dc_f5ab_11e7_8da1_028037ec0200row5_col7\" class=\"data row5 col7\" >0</td> \n",
       "        <td id=\"T_f96ee1dc_f5ab_11e7_8da1_028037ec0200row5_col8\" class=\"data row5 col8\" >1</td> \n",
       "    </tr>    <tr> \n",
       "        <th id=\"T_f96ee1dc_f5ab_11e7_8da1_028037ec0200level0_row6\" class=\"row_heading level0 row6\" >SPD</th> \n",
       "        <td id=\"T_f96ee1dc_f5ab_11e7_8da1_028037ec0200row6_col0\" class=\"data row6 col0\" >0.22</td> \n",
       "        <td id=\"T_f96ee1dc_f5ab_11e7_8da1_028037ec0200row6_col1\" class=\"data row6 col1\" >0.29</td> \n",
       "        <td id=\"T_f96ee1dc_f5ab_11e7_8da1_028037ec0200row6_col2\" class=\"data row6 col2\" >0.28</td> \n",
       "        <td id=\"T_f96ee1dc_f5ab_11e7_8da1_028037ec0200row6_col3\" class=\"data row6 col3\" >0.34</td> \n",
       "        <td id=\"T_f96ee1dc_f5ab_11e7_8da1_028037ec0200row6_col4\" class=\"data row6 col4\" >0.25</td> \n",
       "        <td id=\"T_f96ee1dc_f5ab_11e7_8da1_028037ec0200row6_col5\" class=\"data row6 col5\" >0.34</td> \n",
       "        <td id=\"T_f96ee1dc_f5ab_11e7_8da1_028037ec0200row6_col6\" class=\"data row6 col6\" >0.52</td> \n",
       "        <td id=\"T_f96ee1dc_f5ab_11e7_8da1_028037ec0200row6_col7\" class=\"data row6 col7\" >0</td> \n",
       "        <td id=\"T_f96ee1dc_f5ab_11e7_8da1_028037ec0200row6_col8\" class=\"data row6 col8\" >1</td> \n",
       "    </tr></tbody> \n",
       "</table> "
      ],
      "text/plain": [
       "<pandas.io.formats.style.Styler at 0x2063a721c18>"
      ]
     },
     "execution_count": 99,
     "metadata": {},
     "output_type": "execute_result"
    }
   ],
   "source": [
    "import seaborn as sns\n",
    "# inserting columns of zeros and ones to align the styling in the next step\n",
    "# (otherwise, the colours would not mean the same in each row)\n",
    "average_similarity_styled = average_similarity.copy()\n",
    "average_similarity_styled['0'] = 0.0\n",
    "average_similarity_styled['1'] = 1.0\n",
    "cm = sns.light_palette(\"blue\", as_cmap=True)\n",
    "average_similarity_styled = average_similarity_styled.style.background_gradient(cmap=cm, axis=1)\n",
    "average_similarity_styled"
   ]
  },
  {
   "cell_type": "code",
   "execution_count": 96,
   "metadata": {
    "ExecuteTime": {
     "end_time": "2018-01-10T02:13:17.957079Z",
     "start_time": "2018-01-10T02:13:17.944070Z"
    },
    "scrolled": false
   },
   "outputs": [
    {
     "data": {
      "text/plain": [
       "0.6357142857142859"
      ]
     },
     "execution_count": 96,
     "metadata": {},
     "output_type": "execute_result"
    }
   ],
   "source": [
    "# computing the mean of diagonal elements\n",
    "average_diagonal = np.trace(average_similarity) / 7\n",
    "average_diagonal"
   ]
  },
  {
   "cell_type": "code",
   "execution_count": 97,
   "metadata": {
    "ExecuteTime": {
     "end_time": "2018-01-10T02:13:21.440834Z",
     "start_time": "2018-01-10T02:13:21.402306Z"
    },
    "scrolled": false
   },
   "outputs": [
    {
     "data": {
      "text/plain": [
       "0.31976190476190469"
      ]
     },
     "execution_count": 97,
     "metadata": {},
     "output_type": "execute_result"
    }
   ],
   "source": [
    "# computing the mean of off-diagonal elements\n",
    "average_off_diagonal = (average_similarity.values.sum() - average_diagonal * 7) / 42\n",
    "average_off_diagonal"
   ]
  },
  {
   "cell_type": "code",
   "execution_count": 98,
   "metadata": {
    "ExecuteTime": {
     "end_time": "2018-01-10T02:13:25.637682Z",
     "start_time": "2018-01-10T02:13:25.625666Z"
    },
    "scrolled": false
   },
   "outputs": [
    {
     "data": {
      "text/plain": [
       "0.31595238095238121"
      ]
     },
     "execution_count": 98,
     "metadata": {},
     "output_type": "execute_result"
    }
   ],
   "source": [
    "#the difference can be seen as a performance metric of the model \n",
    "average_diff = average_diagonal - average_off_diagonal\n",
    "average_diff"
   ]
  },
  {
   "cell_type": "markdown",
   "metadata": {},
   "source": [
    "# Vizualisation of candiate vectors"
   ]
  },
  {
   "cell_type": "code",
   "execution_count": 21,
   "metadata": {
    "ExecuteTime": {
     "end_time": "2018-01-08T18:08:47.085198Z",
     "start_time": "2018-01-08T18:08:47.039665Z"
    },
    "scrolled": false
   },
   "outputs": [
    {
     "data": {
      "text/plain": [
       "178322"
      ]
     },
     "execution_count": 21,
     "metadata": {},
     "output_type": "execute_result"
    }
   ],
   "source": [
    "model.docvecs.count"
   ]
  },
  {
   "cell_type": "code",
   "execution_count": 101,
   "metadata": {
    "ExecuteTime": {
     "end_time": "2018-01-10T02:16:31.546915Z",
     "start_time": "2018-01-10T02:16:22.382506Z"
    },
    "scrolled": false
   },
   "outputs": [],
   "source": [
    "# filter out the candidate data\n",
    "mask = [tag in candidate_data['from_name'].values for tag in model.docvecs.offset2doctag]  # this is a \"list comprehension\"\n",
    "candidate_vecs = model.docvecs.doctag_syn0[mask]"
   ]
  },
  {
   "cell_type": "code",
   "execution_count": 102,
   "metadata": {
    "ExecuteTime": {
     "end_time": "2018-01-10T02:17:15.743800Z",
     "start_time": "2018-01-10T02:17:15.729791Z"
    },
    "scrolled": false
   },
   "outputs": [
    {
     "data": {
      "text/plain": [
       "1008"
      ]
     },
     "execution_count": 102,
     "metadata": {},
     "output_type": "execute_result"
    }
   ],
   "source": [
    "len(candidate_vecs)"
   ]
  },
  {
   "cell_type": "code",
   "execution_count": 103,
   "metadata": {
    "ExecuteTime": {
     "end_time": "2018-01-10T02:18:05.602262Z",
     "start_time": "2018-01-10T02:17:20.059350Z"
    },
    "scrolled": false
   },
   "outputs": [],
   "source": [
    "from sklearn.manifold import TSNE\n",
    "import matplotlib.pyplot as plt\n",
    "\n",
    "X = candidate_vecs\n",
    "tsne = TSNE(n_components=2)\n",
    "X_tsne = tsne.fit_transform(X)"
   ]
  },
  {
   "cell_type": "markdown",
   "metadata": {},
   "source": [
    "[Colors in Matplotlib](https://matplotlib.org/api/colors_api.html)\n",
    "\n",
    "[Color names from xkcd](https://xkcd.com/color/rgb/)"
   ]
  },
  {
   "cell_type": "code",
   "execution_count": 104,
   "metadata": {
    "ExecuteTime": {
     "end_time": "2018-01-10T02:18:09.200286Z",
     "start_time": "2018-01-10T02:18:09.158752Z"
    },
    "scrolled": false
   },
   "outputs": [],
   "source": [
    "party_colors = {'AfD': 'rgb(0, 0, 153)',\n",
    "                'DIE LINKE': 'rgb(204, 0, 102)',\n",
    "                'GRÜNE': 'rgb(0, 153, 0)',\n",
    "                'CSU': 'rgb(102, 178, 255)',\n",
    "                'CDU': 'rgb(0, 0, 0)',\n",
    "                'FDP': 'rgb(255, 255, 51)',\n",
    "                'SPD': 'rgb(255, 0, 0)'}\n",
    "candidate_data['color'] = candidate_data['Partei_ABK'].map(party_colors)"
   ]
  },
  {
   "cell_type": "code",
   "execution_count": 26,
   "metadata": {
    "ExecuteTime": {
     "end_time": "2018-01-08T18:09:54.799753Z",
     "start_time": "2018-01-08T18:09:54.773732Z"
    },
    "scrolled": false
   },
   "outputs": [],
   "source": [
    "#plt.figure(num=None, figsize=(10, 8))  # set the figure size\n",
    "#plt.scatter(X_tsne[:, 0], X_tsne[:, 1], c=candidate_data['color'])\n",
    "#plt.show()"
   ]
  },
  {
   "cell_type": "code",
   "execution_count": 105,
   "metadata": {
    "ExecuteTime": {
     "end_time": "2018-01-10T02:18:14.180242Z",
     "start_time": "2018-01-10T02:18:12.441056Z"
    },
    "scrolled": false
   },
   "outputs": [],
   "source": [
    "import plotly.plotly as py\n",
    "import plotly.graph_objs as go\n",
    "from plotly import tools"
   ]
  },
  {
   "cell_type": "code",
   "execution_count": 110,
   "metadata": {
    "ExecuteTime": {
     "end_time": "2018-01-10T12:14:21.581576Z",
     "start_time": "2018-01-10T12:14:21.551554Z"
    },
    "scrolled": false
   },
   "outputs": [],
   "source": [
    "trace = go.Scatter(x=X_tsne[:, 0], y=X_tsne[:, 1],\n",
    "                   mode='markers', \n",
    "                   marker=dict(color=candidate_data['color'], \n",
    "                               colorscale='cmap',\n",
    "                               showscale=False,\n",
    "                               line=dict(color='black', width=1)),\n",
    "                   text=candidate_data['from_name'])\n",
    "#data.append(trace)\n",
    "#titles.append(\"t-SNE (%.2g sec)\" % (t1 - t0))"
   ]
  },
  {
   "cell_type": "code",
   "execution_count": 107,
   "metadata": {
    "ExecuteTime": {
     "end_time": "2018-01-10T02:18:36.568302Z",
     "start_time": "2018-01-10T02:18:36.553290Z"
    },
    "scrolled": false
   },
   "outputs": [],
   "source": [
    "layout=dict(margin=dict(l=10, r=10,\n",
    "                        t=30, b=10)\n",
    "           )\n",
    "\n",
    "fig = go.Figure(data=[trace], layout=layout)"
   ]
  },
  {
   "cell_type": "code",
   "execution_count": null,
   "metadata": {
    "ExecuteTime": {
     "end_time": "2018-01-10T02:18:43.135398Z",
     "start_time": "2018-01-10T02:18:40.139894Z"
    },
    "scrolled": false
   },
   "outputs": [],
   "source": [
    "py.iplot(fig)\n",
    "# I guess I need a plotly account to execute this"
   ]
  },
  {
   "cell_type": "code",
   "execution_count": null,
   "metadata": {
    "scrolled": false
   },
   "outputs": [],
   "source": []
  }
 ],
 "metadata": {
  "kernelspec": {
   "display_name": "Python 3",
   "language": "python",
   "name": "python3"
  },
  "language_info": {
   "codemirror_mode": {
    "name": "ipython",
    "version": 3
   },
   "file_extension": ".py",
   "mimetype": "text/x-python",
   "name": "python",
   "nbconvert_exporter": "python",
   "pygments_lexer": "ipython3",
   "version": "3.6.4"
  },
  "varInspector": {
   "cols": {
    "lenName": 16,
    "lenType": 16,
    "lenVar": 40
   },
   "kernels_config": {
    "python": {
     "delete_cmd_postfix": "",
     "delete_cmd_prefix": "del ",
     "library": "var_list.py",
     "varRefreshCmd": "print(var_dic_list())"
    },
    "r": {
     "delete_cmd_postfix": ") ",
     "delete_cmd_prefix": "rm(",
     "library": "var_list.r",
     "varRefreshCmd": "cat(var_dic_list()) "
    }
   },
   "types_to_exclude": [
    "module",
    "function",
    "builtin_function_or_method",
    "instance",
    "_Feature"
   ],
   "window_display": false
  }
 },
 "nbformat": 4,
 "nbformat_minor": 2
}
