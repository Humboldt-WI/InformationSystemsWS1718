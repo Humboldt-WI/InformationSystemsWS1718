{
 "cells": [
  {
   "cell_type": "markdown",
   "metadata": {
    "heading_collapsed": true
   },
   "source": [
    "# Set up"
   ]
  },
  {
   "cell_type": "code",
   "execution_count": null,
   "metadata": {
    "ExecuteTime": {
     "end_time": "2018-01-17T23:09:07.120979Z",
     "start_time": "2018-01-17T23:08:59.203727Z"
    },
    "hidden": true
   },
   "outputs": [],
   "source": [
    "import pandas as pd\n",
    "import matplotlib.pyplot as plt\n",
    "import os\n",
    "import seaborn as sns"
   ]
  },
  {
   "cell_type": "code",
   "execution_count": null,
   "metadata": {
    "ExecuteTime": {
     "end_time": "2018-01-17T23:09:07.168513Z",
     "start_time": "2018-01-17T23:09:07.142995Z"
    },
    "hidden": true
   },
   "outputs": [],
   "source": [
    "parent_dir = os.path.abspath(os.path.join(os.getcwd(), os.pardir))\n",
    "data_dir = os.path.join(parent_dir, 'data')\n",
    "models_dir = os.path.join(parent_dir, 'models')\n",
    "for dir in [parent_dir, data_dir, models_dir]:\n",
    "    os.makedirs(dir, exist_ok=True)\n",
    "print('working directory: ', os.getcwd())\n",
    "print('data directory:    ', data_dir, )\n",
    "print('models directory:  ', models_dir)"
   ]
  },
  {
   "cell_type": "code",
   "execution_count": null,
   "metadata": {
    "ExecuteTime": {
     "end_time": "2018-01-17T22:14:34.316657Z",
     "start_time": "2018-01-17T22:14:34.310673Z"
    },
    "hidden": true
   },
   "outputs": [],
   "source": [
    "# change pandas column width so we can see the posts\n",
    "pd.get_option('max_colwidth')\n",
    "pd.set_option('max_colwidth', 1000)"
   ]
  },
  {
   "cell_type": "markdown",
   "metadata": {
    "heading_collapsed": true
   },
   "source": [
    "# Data preparation"
   ]
  },
  {
   "cell_type": "code",
   "execution_count": null,
   "metadata": {
    "ExecuteTime": {
     "end_time": "2018-01-17T23:09:12.141753Z",
     "start_time": "2018-01-17T23:09:07.518225Z"
    },
    "hidden": true,
    "scrolled": true
   },
   "outputs": [],
   "source": [
    "data_candidates = pd.read_csv(os.path.join(data_dir, 'fb_election_data_28112017.csv'))\n",
    "data_candidates = data_candidates[['from_name', 'message', 'type', 'Partei_ABK']] # drop other columns\n",
    "data_candidates = data_candidates[data_candidates['message'].notnull()] # filter out empty posts\n",
    "data_candidates['word_count'] = data_candidates['message'].str.count(' ') + 1\n",
    "#data_party['message'] = data_party['message'].astype(str)"
   ]
  },
  {
   "cell_type": "code",
   "execution_count": null,
   "metadata": {
    "ExecuteTime": {
     "end_time": "2018-01-17T23:09:12.349914Z",
     "start_time": "2018-01-17T23:09:12.217306Z"
    },
    "hidden": true
   },
   "outputs": [],
   "source": [
    "party_names = {'AfD': 'AfD',\n",
    "               'DIE LINKE': 'DIE LINKE',\n",
    "               'BÜNDNIS 90/DIE GRÜNEN': 'GRÜNE',\n",
    "               'CSU (Christlich-Soziale Union)': 'CSU',\n",
    "               'CDU': 'CDU',\n",
    "               'FDP': 'FDP',\n",
    "               'SPD': 'SPD'}\n",
    "data_parties =  pd.read_csv((os.path.join(data_dir, 'party_data.csv')))\n",
    "data_parties['Partei_ABK'] = data_parties['from_name'].map(party_names)\n",
    "data_parties['from_name'] = data_parties['Partei_ABK'] + ' Party'\n",
    "data_parties = data_parties[['from_name', 'message', 'type', 'Partei_ABK']] # drop other columns"
   ]
  },
  {
   "cell_type": "code",
   "execution_count": null,
   "metadata": {
    "ExecuteTime": {
     "end_time": "2018-01-17T23:09:13.410315Z",
     "start_time": "2018-01-17T23:09:12.457500Z"
    },
    "hidden": true
   },
   "outputs": [],
   "source": [
    "data = data_candidates.append(data_parties)\n",
    "data = data[data['message'].notnull()] # filter out empty posts\n",
    "data.index = pd.Index(range(len(data)))  # make sure the index are unique increasing numbers\n",
    "data.to_pickle(os.path.join(data_dir, 'data_clean_4cols_2.pickle'))  # save the data as pickle for faster loading\n",
    "#data = pd.read_pickle(os.path.join(data_dir, 'data_clean_4cols_2.pickle'))  # data can be read  like this"
   ]
  },
  {
   "cell_type": "markdown",
   "metadata": {
    "heading_collapsed": true
   },
   "source": [
    "# Inspect the data"
   ]
  },
  {
   "cell_type": "code",
   "execution_count": null,
   "metadata": {
    "ExecuteTime": {
     "end_time": "2018-01-17T22:14:49.297575Z",
     "start_time": "2018-01-17T22:14:49.246538Z"
    },
    "hidden": true,
    "scrolled": true
   },
   "outputs": [],
   "source": [
    "# take a peek a the data\n",
    "data_candidates[data_candidates['from_name'] == 'Angela Merkel'].head()"
   ]
  },
  {
   "cell_type": "markdown",
   "metadata": {
    "ExecuteTime": {
     "end_time": "2018-01-13T16:04:51.271228Z",
     "start_time": "2018-01-13T16:04:50.072218Z"
    },
    "scrolled": true
   },
   "source": [
    "# Descriptive statistics"
   ]
  },
  {
   "cell_type": "markdown",
   "metadata": {},
   "source": [
    "## Summary by candidate"
   ]
  },
  {
   "cell_type": "code",
   "execution_count": null,
   "metadata": {
    "ExecuteTime": {
     "end_time": "2018-01-17T22:17:31.561823Z",
     "start_time": "2018-01-17T22:17:31.555803Z"
    }
   },
   "outputs": [],
   "source": [
    "# filter out party leaders \n",
    "leaders = ['Sahra Wagenknecht',\n",
    "'Dietmar Bartsch',\n",
    "'Katrin Göring-Eckardt',\n",
    "'Cem Özdemir',\n",
    "'Martin Schulz',\n",
    "'Angela Merkel',\n",
    "'Joachim Herrmann',\n",
    "'Alexander Gauland',\n",
    "'Alice Weidel']"
   ]
  },
  {
   "cell_type": "code",
   "execution_count": null,
   "metadata": {
    "ExecuteTime": {
     "end_time": "2018-01-17T22:17:35.589333Z",
     "start_time": "2018-01-17T22:17:34.525788Z"
    },
    "scrolled": true
   },
   "outputs": [],
   "source": [
    "data_candidates['word_count'] = data_candidates['message'].str.count(' ') + 1\n",
    "candidate_summary = pd.DataFrame()\n",
    "candidate_summary = (data_candidates\n",
    "                  .drop(['message', 'word_count', 'type'], axis=1)\n",
    "                  .drop_duplicates('from_name')\n",
    "                  .set_index('from_name'))\n",
    "candidate_summary['leader'] = candidate_summary.index.isin(leaders)\n",
    "candidate_summary['mean_word_count'] = data_candidates.groupby('from_name')['word_count'].mean().round(2)\n",
    "candidate_summary['median_word_count'] = data_candidates.groupby('from_name')['word_count'].median()\n",
    "candidate_summary['post_count'] = data_candidates['from_name'].value_counts()\n",
    "candidate_summary['total_words'] =  data_candidates.groupby('from_name')['word_count'].sum()"
   ]
  },
  {
   "cell_type": "code",
   "execution_count": 19,
   "metadata": {
    "ExecuteTime": {
     "end_time": "2018-01-17T22:17:36.662978Z",
     "start_time": "2018-01-17T22:17:36.604941Z"
    },
    "scrolled": true
   },
   "outputs": [
    {
     "data": {
      "text/html": [
       "<div>\n",
       "<style scoped>\n",
       "    .dataframe tbody tr th:only-of-type {\n",
       "        vertical-align: middle;\n",
       "    }\n",
       "\n",
       "    .dataframe tbody tr th {\n",
       "        vertical-align: top;\n",
       "    }\n",
       "\n",
       "    .dataframe thead th {\n",
       "        text-align: right;\n",
       "    }\n",
       "</style>\n",
       "<table border=\"1\" class=\"dataframe\">\n",
       "  <thead>\n",
       "    <tr style=\"text-align: right;\">\n",
       "      <th></th>\n",
       "      <th>Partei_ABK</th>\n",
       "      <th>leader</th>\n",
       "      <th>mean_word_count</th>\n",
       "      <th>median_word_count</th>\n",
       "      <th>post_count</th>\n",
       "      <th>total_words</th>\n",
       "    </tr>\n",
       "    <tr>\n",
       "      <th>from_name</th>\n",
       "      <th></th>\n",
       "      <th></th>\n",
       "      <th></th>\n",
       "      <th></th>\n",
       "      <th></th>\n",
       "      <th></th>\n",
       "    </tr>\n",
       "  </thead>\n",
       "  <tbody>\n",
       "    <tr>\n",
       "      <th>Alice Weidel</th>\n",
       "      <td>AfD</td>\n",
       "      <td>True</td>\n",
       "      <td>72.13</td>\n",
       "      <td>40.0</td>\n",
       "      <td>407</td>\n",
       "      <td>29357</td>\n",
       "    </tr>\n",
       "    <tr>\n",
       "      <th>Angela Merkel</th>\n",
       "      <td>CDU</td>\n",
       "      <td>True</td>\n",
       "      <td>49.91</td>\n",
       "      <td>43.0</td>\n",
       "      <td>235</td>\n",
       "      <td>11729</td>\n",
       "    </tr>\n",
       "    <tr>\n",
       "      <th>Joachim Herrmann</th>\n",
       "      <td>CSU</td>\n",
       "      <td>True</td>\n",
       "      <td>36.07</td>\n",
       "      <td>20.0</td>\n",
       "      <td>431</td>\n",
       "      <td>15546</td>\n",
       "    </tr>\n",
       "    <tr>\n",
       "      <th>Dietmar Bartsch</th>\n",
       "      <td>DIE LINKE</td>\n",
       "      <td>True</td>\n",
       "      <td>75.69</td>\n",
       "      <td>64.0</td>\n",
       "      <td>347</td>\n",
       "      <td>26264</td>\n",
       "    </tr>\n",
       "    <tr>\n",
       "      <th>Sahra Wagenknecht</th>\n",
       "      <td>DIE LINKE</td>\n",
       "      <td>True</td>\n",
       "      <td>99.63</td>\n",
       "      <td>88.0</td>\n",
       "      <td>335</td>\n",
       "      <td>33377</td>\n",
       "    </tr>\n",
       "    <tr>\n",
       "      <th>Katrin Göring-Eckardt</th>\n",
       "      <td>GRÜNE</td>\n",
       "      <td>True</td>\n",
       "      <td>42.66</td>\n",
       "      <td>38.0</td>\n",
       "      <td>293</td>\n",
       "      <td>12500</td>\n",
       "    </tr>\n",
       "    <tr>\n",
       "      <th>Cem Özdemir</th>\n",
       "      <td>GRÜNE</td>\n",
       "      <td>True</td>\n",
       "      <td>37.79</td>\n",
       "      <td>25.0</td>\n",
       "      <td>347</td>\n",
       "      <td>13113</td>\n",
       "    </tr>\n",
       "    <tr>\n",
       "      <th>Martin Schulz</th>\n",
       "      <td>SPD</td>\n",
       "      <td>True</td>\n",
       "      <td>64.51</td>\n",
       "      <td>50.0</td>\n",
       "      <td>386</td>\n",
       "      <td>24899</td>\n",
       "    </tr>\n",
       "  </tbody>\n",
       "</table>\n",
       "</div>"
      ],
      "text/plain": [
       "                      Partei_ABK  leader  mean_word_count  median_word_count  \\\n",
       "from_name                                                                      \n",
       "Alice Weidel                 AfD    True            72.13               40.0   \n",
       "Angela Merkel                CDU    True            49.91               43.0   \n",
       "Joachim Herrmann             CSU    True            36.07               20.0   \n",
       "Dietmar Bartsch        DIE LINKE    True            75.69               64.0   \n",
       "Sahra Wagenknecht      DIE LINKE    True            99.63               88.0   \n",
       "Katrin Göring-Eckardt      GRÜNE    True            42.66               38.0   \n",
       "Cem Özdemir                GRÜNE    True            37.79               25.0   \n",
       "Martin Schulz                SPD    True            64.51               50.0   \n",
       "\n",
       "                       post_count  total_words  \n",
       "from_name                                       \n",
       "Alice Weidel                  407        29357  \n",
       "Angela Merkel                 235        11729  \n",
       "Joachim Herrmann              431        15546  \n",
       "Dietmar Bartsch               347        26264  \n",
       "Sahra Wagenknecht             335        33377  \n",
       "Katrin Göring-Eckardt         293        12500  \n",
       "Cem Özdemir                   347        13113  \n",
       "Martin Schulz                 386        24899  "
      ]
     },
     "execution_count": 19,
     "metadata": {},
     "output_type": "execute_result"
    }
   ],
   "source": [
    "candidate_summary[candidate_summary['leader']].sort_values('Partei_ABK')\n",
    "#candidate_summary[candidate_summary['Partei_ABK'] == 'GRÜNE'].sort_values('post_count', ascending=False).head()\n",
    "#candidate_summary.sort_values('post_count', ascending=False)"
   ]
  },
  {
   "cell_type": "markdown",
   "metadata": {},
   "source": [
    "## Summary by party"
   ]
  },
  {
   "cell_type": "code",
   "execution_count": null,
   "metadata": {
    "ExecuteTime": {
     "end_time": "2018-01-17T22:18:31.738811Z",
     "start_time": "2018-01-17T22:18:31.732806Z"
    }
   },
   "outputs": [],
   "source": [
    "party_colors = {'AfD': 'xkcd:blue',\n",
    "                'DIE LINKE': 'xkcd:magenta',\n",
    "                'GRÜNE': 'xkcd:grass green',\n",
    "                'CSU': 'xkcd:sky blue',\n",
    "                'CDU': 'xkcd:black',\n",
    "                'FDP': 'xkcd:goldenrod',\n",
    "                'SPD': 'xkcd:red'}"
   ]
  },
  {
   "cell_type": "code",
   "execution_count": null,
   "metadata": {
    "ExecuteTime": {
     "end_time": "2018-01-17T22:18:32.624380Z",
     "start_time": "2018-01-17T22:18:32.516740Z"
    }
   },
   "outputs": [],
   "source": [
    "party_summary = pd.DataFrame()\n",
    "party_summary['words_per_post'] = data_candidates.groupby('Partei_ABK')['word_count'].mean()\n",
    "party_summary['word_count'] = data_candidates.groupby('Partei_ABK')['word_count'].sum()\n",
    "party_summary['post_count'] = data_candidates['Partei_ABK'].value_counts()\n",
    "party_summary['candidate_count'] = candidate_summary['Partei_ABK'].value_counts()\n",
    "party_summary['posts_per_candidate'] = party_summary['post_count'] / party_summary['candidate_count']\n",
    "party_summary['words_per_candidate'] = party_summary['word_count'] / party_summary['candidate_count']\n",
    "party_summary.reset_index(inplace=True)\n",
    "cm = sns.light_palette(\"blue\", as_cmap=True)\n",
    "#party_summary.style.background_gradient(cmap=cm, axis=0, high=0.8)"
   ]
  },
  {
   "cell_type": "code",
   "execution_count": 21,
   "metadata": {
    "ExecuteTime": {
     "end_time": "2018-01-17T22:22:32.183462Z",
     "start_time": "2018-01-17T22:22:31.989335Z"
    }
   },
   "outputs": [
    {
     "data": {
      "image/png": "[encoded data removed]",
      "text/plain": [
       "<matplotlib.figure.Figure at 0x1a0e7834a8>"
      ]
     },
     "metadata": {},
     "output_type": "display_data"
    }
   ],
   "source": [
    "show = 'words_per_post' # words_per_post, words_per_candidate\n",
    "fig, ax = plt.subplots()\n",
    "ax.bar(party_summary['Partei_ABK'],\n",
    "        party_summary[show],\n",
    "        color=party_summary['Partei_ABK'].map(party_colors))\n",
    "ax.set_title(show)\n",
    "plt.show()"
   ]
  },
  {
   "cell_type": "markdown",
   "metadata": {
    "heading_collapsed": true
   },
   "source": [
    "###### More plots"
   ]
  },
  {
   "cell_type": "code",
   "execution_count": null,
   "metadata": {
    "hidden": true
   },
   "outputs": [],
   "source": [
    "f, axes = plt.subplots(2, 3, sharex=True, figsize=(15,10))\n",
    "#for x, y in product([0, 1], [0, 1, 2]))\n",
    "axes[0, 0].bar(party_summary['Partei_ABK'],\n",
    "        party_summary['candidate_count'],\n",
    "        color=party_summary['Partei_ABK'].map(party_colors))\n",
    "axes[0, 0].set_title('candidate_count')\n",
    "\n",
    "axes[0, 1].bar(party_summary['Partei_ABK'],\n",
    "        party_summary['post_count'],\n",
    "        color=party_summary['Partei_ABK'].map(party_colors))\n",
    "axes[0, 1].set_title('post_count')\n",
    "\n",
    "axes[0, 2].bar(party_summary['Partei_ABK'],\n",
    "        party_summary['word_count'],\n",
    "        color=party_summary['Partei_ABK'].map(party_colors))\n",
    "axes[0, 2].set_title('word_count')\n",
    "\n",
    "axes[1, 0].bar(party_summary['Partei_ABK'],\n",
    "        party_summary['words_per_candidate'],\n",
    "        color=party_summary['Partei_ABK'].map(party_colors))\n",
    "axes[1, 0].set_title('words_per_candidate')\n",
    "\n",
    "axes[1, 1].bar(party_summary['Partei_ABK'],\n",
    "        party_summary['posts_per_candidate'],\n",
    "        color=party_summary['Partei_ABK'].map(party_colors))\n",
    "axes[1, 1].set_title('posts_per_candidate')\n",
    "\n",
    "axes[1, 2].bar(party_summary['Partei_ABK'],\n",
    "        party_summary['words_per_post'],\n",
    "        color=party_summary['Partei_ABK'].map(party_colors))\n",
    "axes[1, 2].set_title('words_per_post')\n",
    "\n",
    "plt.show()"
   ]
  },
  {
   "cell_type": "markdown",
   "metadata": {
    "heading_collapsed": true
   },
   "source": [
    "###### Post types"
   ]
  },
  {
   "cell_type": "code",
   "execution_count": null,
   "metadata": {
    "ExecuteTime": {
     "end_time": "2018-01-17T14:50:53.475733Z",
     "start_time": "2018-01-17T14:50:53.359732Z"
    },
    "hidden": true
   },
   "outputs": [],
   "source": [
    "post_summary = pd.DataFrame()\n",
    "post_summary['mean_word_count'] = data_candidates.groupby('type')['word_count'].mean()\n",
    "post_summary['post_count'] = data_candidates['type'].value_counts()\n",
    "post_summary"
   ]
  },
  {
   "cell_type": "code",
   "execution_count": null,
   "metadata": {
    "ExecuteTime": {
     "end_time": "2018-01-17T22:07:47.218627Z",
     "start_time": "2018-01-17T22:07:46.940877Z"
    },
    "hidden": true
   },
   "outputs": [],
   "source": [
    "parties_posttypes = pd.crosstab(data_candidates['type'], data_candidates['Partei_ABK'])\n",
    "import seaborn as sns\n",
    "cm = sns.light_palette(\"blue\", as_cmap=True)\n",
    "parties_posttypes = parties_posttypes.style.background_gradient(cmap=cm, axis=0, high=0.8)\n",
    "#parties_posttypes"
   ]
  },
  {
   "cell_type": "markdown",
   "metadata": {},
   "source": [
    "###### Distribution of post lengths"
   ]
  },
  {
   "cell_type": "code",
   "execution_count": 22,
   "metadata": {
    "ExecuteTime": {
     "end_time": "2018-01-17T22:16:45.376230Z",
     "start_time": "2018-01-17T22:16:44.542492Z"
    },
    "scrolled": true
   },
   "outputs": [
    {
     "data": {
      "image/png": "[encoded data removed]",
      "text/plain": [
       "<matplotlib.figure.Figure at 0x1a0e82ef60>"
      ]
     },
     "metadata": {},
     "output_type": "display_data"
    }
   ],
   "source": [
    "plt.figure()\n",
    "n, bins, patches = plt.hist(x=data_candidates['word_count'][data_candidates['word_count']<200], bins=200)\n",
    "plt.xlabel('# words in post')\n",
    "plt.ylabel('# of posts')\n",
    "plt.title('Histogram of post lengths truncated at 200')\n",
    "plt.show()"
   ]
  },
  {
   "cell_type": "markdown",
   "metadata": {
    "heading_collapsed": true
   },
   "source": [
    "# Prepare data"
   ]
  },
  {
   "cell_type": "code",
   "execution_count": null,
   "metadata": {
    "ExecuteTime": {
     "end_time": "2018-01-17T22:23:09.824956Z",
     "start_time": "2018-01-17T22:23:05.452362Z"
    },
    "hidden": true
   },
   "outputs": [],
   "source": [
    "from nltk.tokenize.casual import TweetTokenizer\n",
    "from nltk.corpus import stopwords\n",
    "import string\n",
    "\n",
    "#tokenizer = RegexpTokenizer(r'\\w+')\n",
    "tokenizer = TweetTokenizer\n",
    "stopword_set = set(stopwords.words('german'))\n",
    "#This function does all cleaning of data using two objects above\n",
    "def nlp_clean(messages):\n",
    "    new_data = []\n",
    "    for message in messages:\n",
    "        message = message.lower()\n",
    "        message = tokenizer().tokenize(message)\n",
    "        words = [word for word in message if (word not in stopword_set\n",
    "                                              and word not in string.punctuation\n",
    "                                              and not word.startswith('http'))]\n",
    "        #word_list = tokenizer.tokenize(message)\n",
    "        #word_list = list(set(dlist).difference(stopword_set))\n",
    "        new_data.append(words)\n",
    "    return new_data"
   ]
  },
  {
   "cell_type": "code",
   "execution_count": null,
   "metadata": {
    "ExecuteTime": {
     "end_time": "2018-01-17T22:24:12.314923Z",
     "start_time": "2018-01-17T22:24:12.276896Z"
    },
    "hidden": true
   },
   "outputs": [],
   "source": [
    "example_post = data_candidates[data_candidates['from_name'] == 'Angela Merkel'].loc[108901,'message']\n",
    "example_post"
   ]
  },
  {
   "cell_type": "code",
   "execution_count": null,
   "metadata": {
    "ExecuteTime": {
     "end_time": "2018-01-17T22:24:14.180252Z",
     "start_time": "2018-01-17T22:24:14.171247Z"
    },
    "hidden": true
   },
   "outputs": [],
   "source": [
    "nlp_clean([example_post])"
   ]
  }
 ],
 "metadata": {
  "kernelspec": {
   "display_name": "Python 3",
   "language": "python",
   "name": "python3"
  },
  "language_info": {
   "codemirror_mode": {
    "name": "ipython",
    "version": 3
   },
   "file_extension": ".py",
   "mimetype": "text/x-python",
   "name": "python",
   "nbconvert_exporter": "python",
   "pygments_lexer": "ipython3",
   "version": "3.6.3"
  },
  "varInspector": {
   "cols": {
    "lenName": 16,
    "lenType": 16,
    "lenVar": 40
   },
   "kernels_config": {
    "python": {
     "delete_cmd_postfix": "",
     "delete_cmd_prefix": "del ",
     "library": "var_list.py",
     "varRefreshCmd": "print(var_dic_list())"
    },
    "r": {
     "delete_cmd_postfix": ") ",
     "delete_cmd_prefix": "rm(",
     "library": "var_list.r",
     "varRefreshCmd": "cat(var_dic_list()) "
    }
   },
   "types_to_exclude": [
    "module",
    "function",
    "builtin_function_or_method",
    "instance",
    "_Feature"
   ],
   "window_display": false
  }
 },
 "nbformat": 4,
 "nbformat_minor": 2
}
