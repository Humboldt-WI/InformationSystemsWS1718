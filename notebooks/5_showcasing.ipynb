{
 "cells": [
  {
   "cell_type": "markdown",
   "metadata": {},
   "source": [
    "# What can I do with a trained model?"
   ]
  },
  {
   "cell_type": "code",
   "execution_count": 2,
   "metadata": {},
   "outputs": [],
   "source": [
    "import gensim\n",
    "import pandas as pd\n",
    "import os\n",
    "\n",
    "model = gensim.models.Doc2Vec.load('../models/Doc2Vec(dmm,d100,n5,w10,mc5,s0.001,t4)_e2023022018.model')"
   ]
  },
  {
   "cell_type": "markdown",
   "metadata": {},
   "source": [
    "## adding up document vectors"
   ]
  },
  {
   "cell_type": "code",
   "execution_count": 3,
   "metadata": {},
   "outputs": [
    {
     "data": {
      "text/plain": [
       "array(['Felix Schreiner', 'Matthias Heider'], dtype=object)"
      ]
     },
     "execution_count": 3,
     "metadata": {},
     "output_type": "execute_result"
    }
   ],
   "source": [
    "data2 = pd.read_pickle(os.path.join('../data/data_clean_4cols.pickle'))\n",
    "candidate_data = (data2.drop(['id', 'message'], axis=1)\n",
    "                      .drop_duplicates('from_name')\n",
    "#                      .set_index('from_name')\n",
    "                 )\n",
    "\n",
    "sample_candidates = candidate_data.from_name.sample(2).as_matrix()\n",
    "sample_candidates"
   ]
  },
  {
   "cell_type": "code",
   "execution_count": 4,
   "metadata": {},
   "outputs": [
    {
     "data": {
      "text/plain": [
       "array([ -5.19163656,   0.46491572,  -6.74957228,   0.4908177 ,\n",
       "         1.51057565,   0.97864604,   3.18611479,   1.00662565,\n",
       "         2.61215115,  -0.2223649 ,   4.72872066,  -5.68222618,\n",
       "        -4.67722893,  -6.17362213,  -4.4897151 ,  10.61700058,\n",
       "         4.66229725,   2.54773021,  -1.94928396,  -2.88328385,\n",
       "        -3.08011651,   0.84021425,   8.50683308,   1.1168164 ,\n",
       "         3.47256041,   5.495718  ,  10.64424515,  -0.75040758,\n",
       "         2.39527965,  -4.00780392,   3.02863765,  -4.64224148,\n",
       "         0.83377314,   3.65977621,  -3.58876371,   5.85865116,\n",
       "         3.64756203,  -7.70603514,   2.49390721,  -4.84250879,\n",
       "        -0.84234804,   6.67185688,   4.4036088 ,   0.60378808,\n",
       "         3.35075331,  -3.40137339,  -3.01401329,  -2.90809321,\n",
       "        14.26439667,   4.90509558,  -0.58509392,  -2.49066734,\n",
       "         2.06052446,   4.79455376,   0.08195281,  -0.58230752,\n",
       "         1.91841435,  -0.83170176,   0.21062422,  -7.46002913,\n",
       "         3.41599154,   2.62618685,   0.34795213,  -2.32537961,\n",
       "         3.13879967,   2.16462135,  -2.09073997,   1.19665885,\n",
       "        -3.90282154,  -4.56880283,  -1.05889678,   7.71400023,\n",
       "        -2.12295413,  -2.77163339,  -2.73243761,  -1.51545131,\n",
       "         1.9089576 ,  -2.43293715,   0.25774822,   1.76316023,\n",
       "         2.68656611,  -7.24560308,  -2.09810734,  -5.5836916 ,\n",
       "        -1.50735438,  -2.64056444,  -1.50608563,   4.16251707,\n",
       "         0.39240393,  -1.1288836 ,  -4.57891083,   2.96576023,\n",
       "         1.59126627,   0.99258327,   0.4587543 ,  -1.43849146,\n",
       "        -0.131055  ,   2.3031888 ,   7.3628974 ,  -1.50501192], dtype=float32)"
      ]
     },
     "execution_count": 4,
     "metadata": {},
     "output_type": "execute_result"
    }
   ],
   "source": [
    "combi_docvec = model.docvecs[sample_candidates[0]] + model.docvecs[sample_candidates[1]]\n",
    "combi_docvec"
   ]
  },
  {
   "cell_type": "markdown",
   "metadata": {},
   "source": [
    "## finding similar docs aka candidates"
   ]
  },
  {
   "cell_type": "code",
   "execution_count": 5,
   "metadata": {},
   "outputs": [],
   "source": [
    "array = model.docvecs.most_similar('Angela Merkel', topn=10)"
   ]
  },
  {
   "cell_type": "code",
   "execution_count": 6,
   "metadata": {},
   "outputs": [],
   "source": [
    "data = [item[0] for item in array]\n",
    "index = [item[1] for item in array]\n",
    "\n",
    "df = pd.DataFrame(data, index = index)"
   ]
  },
  {
   "cell_type": "code",
   "execution_count": 7,
   "metadata": {},
   "outputs": [
    {
     "data": {
      "text/html": [
       "<div>\n",
       "<style scoped>\n",
       "    .dataframe tbody tr th:only-of-type {\n",
       "        vertical-align: middle;\n",
       "    }\n",
       "\n",
       "    .dataframe tbody tr th {\n",
       "        vertical-align: top;\n",
       "    }\n",
       "\n",
       "    .dataframe thead th {\n",
       "        text-align: right;\n",
       "    }\n",
       "</style>\n",
       "<table border=\"1\" class=\"dataframe\">\n",
       "  <thead>\n",
       "    <tr style=\"text-align: right;\">\n",
       "      <th></th>\n",
       "      <th>0</th>\n",
       "    </tr>\n",
       "  </thead>\n",
       "  <tbody>\n",
       "    <tr>\n",
       "      <th>0.765545</th>\n",
       "      <td>CDU Party</td>\n",
       "    </tr>\n",
       "    <tr>\n",
       "      <th>0.672349</th>\n",
       "      <td>Peter Tauber</td>\n",
       "    </tr>\n",
       "    <tr>\n",
       "      <th>0.642125</th>\n",
       "      <td>Monika Grütters</td>\n",
       "    </tr>\n",
       "    <tr>\n",
       "      <th>0.619684</th>\n",
       "      <td>Dr. Karl A. Lamers</td>\n",
       "    </tr>\n",
       "    <tr>\n",
       "      <th>0.597302</th>\n",
       "      <td>Hermann Gröhe</td>\n",
       "    </tr>\n",
       "    <tr>\n",
       "      <th>0.594422</th>\n",
       "      <td>96442</td>\n",
       "    </tr>\n",
       "    <tr>\n",
       "      <th>0.588717</th>\n",
       "      <td>Josef Oster</td>\n",
       "    </tr>\n",
       "    <tr>\n",
       "      <th>0.588635</th>\n",
       "      <td>Jürgen Hardt</td>\n",
       "    </tr>\n",
       "    <tr>\n",
       "      <th>0.584644</th>\n",
       "      <td>61421</td>\n",
       "    </tr>\n",
       "    <tr>\n",
       "      <th>0.578986</th>\n",
       "      <td>Bernd Siebert - Mitglied des Bundestages</td>\n",
       "    </tr>\n",
       "  </tbody>\n",
       "</table>\n",
       "</div>"
      ],
      "text/plain": [
       "                                                 0\n",
       "0.765545                                 CDU Party\n",
       "0.672349                              Peter Tauber\n",
       "0.642125                           Monika Grütters\n",
       "0.619684                        Dr. Karl A. Lamers\n",
       "0.597302                             Hermann Gröhe\n",
       "0.594422                                     96442\n",
       "0.588717                               Josef Oster\n",
       "0.588635                              Jürgen Hardt\n",
       "0.584644                                     61421\n",
       "0.578986  Bernd Siebert - Mitglied des Bundestages"
      ]
     },
     "execution_count": 7,
     "metadata": {},
     "output_type": "execute_result"
    }
   ],
   "source": [
    "df"
   ]
  },
  {
   "cell_type": "markdown",
   "metadata": {},
   "source": [
    "## doing the same with word vectors"
   ]
  },
  {
   "cell_type": "code",
   "execution_count": 14,
   "metadata": {},
   "outputs": [
    {
     "data": {
      "text/plain": [
       "[('bodenlose', 0.5578955411911011),\n",
       " ('koalition', 0.5447141528129578),\n",
       " ('ankündigungen', 0.5168761014938354),\n",
       " ('versprechungen', 0.5123948454856873),\n",
       " ('kehrtwende', 0.512168824672699),\n",
       " ('bundesregierung', 0.5052720904350281),\n",
       " ('wahlkampfmanöver', 0.4960765838623047),\n",
       " ('schwarz-gelb', 0.4931943416595459),\n",
       " ('stillstand', 0.48975732922554016),\n",
       " ('desaster', 0.4849563539028168)]"
      ]
     },
     "execution_count": 14,
     "metadata": {},
     "output_type": "execute_result"
    }
   ],
   "source": [
    "model.wv.most_similar('digitalisierung')"
   ]
  },
  {
   "cell_type": "code",
   "execution_count": 34,
   "metadata": {},
   "outputs": [
    {
     "data": {
      "text/plain": [
       "[('merkel', 0.733528733253479),\n",
       " ('mann', 0.5631741285324097),\n",
       " ('freimuth', 0.5476266741752625),\n",
       " ('merkels', 0.4812275469303131),\n",
       " ('angelamerkel', 0.39480194449424744),\n",
       " ('kanzlerkandidaten', 0.38514065742492676),\n",
       " ('martinschulz', 0.384689599275589),\n",
       " ('bundeskanzlerin', 0.3843058943748474),\n",
       " ('schlusswort', 0.37942349910736084),\n",
       " ('marquardt', 0.37354856729507446)]"
      ]
     },
     "execution_count": 34,
     "metadata": {},
     "output_type": "execute_result"
    }
   ],
   "source": [
    "model.wv.most_similar([model.wv.word_vec('bundeskanzlerin') - model.wv.word_vec('frau') + model.wv.word_vec('mann')])"
   ]
  },
  {
   "cell_type": "code",
   "execution_count": 32,
   "metadata": {},
   "outputs": [
    {
     "data": {
      "text/plain": [
       "[('klimakrise', 0.7081023454666138),\n",
       " ('klimawandels', 0.6980298161506653),\n",
       " ('planeten', 0.622928261756897),\n",
       " ('klimaschutz', 0.6141173839569092),\n",
       " ('klimakatastrophe', 0.6101318597793579),\n",
       " ('globalen', 0.5679594278335571),\n",
       " ('weltfrieden', 0.5631687641143799),\n",
       " ('klimapolitik', 0.5600258111953735),\n",
       " ('menschengemachten', 0.558844268321991),\n",
       " ('weltweite', 0.5464196801185608)]"
      ]
     },
     "execution_count": 32,
     "metadata": {},
     "output_type": "execute_result"
    }
   ],
   "source": [
    "model.wv.most_similar('klimawandel')"
   ]
  },
  {
   "cell_type": "code",
   "execution_count": 33,
   "metadata": {},
   "outputs": [
    {
     "data": {
      "text/plain": [
       "[('abgaben', 0.653587818145752),\n",
       " ('sozialabgaben', 0.6237595081329346),\n",
       " ('mehrwertsteuer', 0.5879094004631042),\n",
       " ('steuerentlastung', 0.5553216934204102),\n",
       " ('steuerpolitik', 0.5466485619544983),\n",
       " ('steueraufkommen', 0.5407562851905823),\n",
       " ('inflation', 0.5308794975280762),\n",
       " ('netto', 0.5224269032478333),\n",
       " ('einkommensteuer', 0.5215197801589966),\n",
       " ('steuer', 0.5206384658813477)]"
      ]
     },
     "execution_count": 33,
     "metadata": {},
     "output_type": "execute_result"
    }
   ],
   "source": [
    "model.wv.most_similar('steuern')"
   ]
  },
  {
   "cell_type": "code",
   "execution_count": 10,
   "metadata": {
    "scrolled": true
   },
   "outputs": [
    {
     "data": {
      "text/plain": [
       "[('legalisierung', 0.636554479598999),\n",
       " ('medizin', 0.4737928509712219),\n",
       " ('rezeptpflichtiger', 0.4731256365776062),\n",
       " ('herero', 0.47304031252861023),\n",
       " ('medikamente', 0.47299811244010925),\n",
       " ('operationen', 0.45909738540649414),\n",
       " ('strengere', 0.45692986249923706),\n",
       " ('kontrollierte', 0.45156535506248474),\n",
       " ('jugendschutz', 0.43440157175064087),\n",
       " ('dealern', 0.4315119683742523)]"
      ]
     },
     "execution_count": 10,
     "metadata": {},
     "output_type": "execute_result"
    }
   ],
   "source": [
    "model.wv.most_similar('cannabis')"
   ]
  },
  {
   "cell_type": "code",
   "execution_count": 15,
   "metadata": {},
   "outputs": [
    {
     "data": {
      "text/plain": [
       "[('zuwanderung', 0.8089494109153748),\n",
       " ('asylrecht', 0.6901998519897461),\n",
       " ('einwanderungsgesetz', 0.6854212880134583),\n",
       " ('unkontrollierte', 0.6615229845046997),\n",
       " ('sozialsysteme', 0.6532917022705078),\n",
       " ('einwanderer', 0.652267336845398),\n",
       " ('ungesteuerte', 0.6487801671028137),\n",
       " ('masseneinwanderung', 0.6453524827957153),\n",
       " ('asyl', 0.6220313906669617),\n",
       " ('massenzuwanderung', 0.6181037425994873)]"
      ]
     },
     "execution_count": 15,
     "metadata": {},
     "output_type": "execute_result"
    }
   ],
   "source": [
    "model.wv.most_similar('einwanderung')"
   ]
  },
  {
   "cell_type": "code",
   "execution_count": null,
   "metadata": {},
   "outputs": [],
   "source": [
    "model.wv.most_similar('groko')"
   ]
  },
  {
   "cell_type": "code",
   "execution_count": 11,
   "metadata": {},
   "outputs": [
    {
     "data": {
      "text/plain": [
       "[('hauptstadt', 0.9484652280807495),\n",
       " ('bundeshauptstadt', 0.5706392526626587),\n",
       " ('republik', 0.5143699049949646),\n",
       " ('berlin', 0.5023105144500732),\n",
       " ('reise', 0.4816671907901764),\n",
       " ('bundespresseamt', 0.4529900550842285),\n",
       " ('singapur', 0.4295526146888733),\n",
       " ('gruppe', 0.42479175329208374),\n",
       " ('dachterrasse', 0.4243021011352539),\n",
       " ('bildungsfahrt', 0.4151843190193176)]"
      ]
     },
     "execution_count": 11,
     "metadata": {},
     "output_type": "execute_result"
    }
   ],
   "source": [
    "model.wv.most_similar([model.wv.word_vec('hauptstadt') + model.wv.word_vec('deutschland')/2])"
   ]
  },
  {
   "cell_type": "markdown",
   "metadata": {
    "heading_collapsed": true
   },
   "source": [
    "## which word does not fit in?"
   ]
  },
  {
   "cell_type": "code",
   "execution_count": 12,
   "metadata": {
    "hidden": true
   },
   "outputs": [
    {
     "data": {
      "text/plain": [
       "'merkel'"
      ]
     },
     "execution_count": 12,
     "metadata": {},
     "output_type": "execute_result"
    }
   ],
   "source": [
    "model.wv.doesnt_match(\"bundeskanzler merkel regierung schulz\".split())"
   ]
  },
  {
   "cell_type": "code",
   "execution_count": 13,
   "metadata": {
    "hidden": true
   },
   "outputs": [
    {
     "data": {
      "text/plain": [
       "'weidel'"
      ]
     },
     "execution_count": 13,
     "metadata": {},
     "output_type": "execute_result"
    }
   ],
   "source": [
    "model.wv.doesnt_match(\"weidel gauland höcke irmer\".split())"
   ]
  },
  {
   "cell_type": "code",
   "execution_count": 14,
   "metadata": {
    "hidden": true
   },
   "outputs": [
    {
     "data": {
      "text/plain": [
       "'deutschland'"
      ]
     },
     "execution_count": 14,
     "metadata": {},
     "output_type": "execute_result"
    }
   ],
   "source": [
    "model.wv.doesnt_match(\"europa deutschland spanien frankreich\".split())"
   ]
  },
  {
   "cell_type": "markdown",
   "metadata": {},
   "source": [
    "## which candidate/party does not fit in?"
   ]
  },
  {
   "cell_type": "code",
   "execution_count": 15,
   "metadata": {},
   "outputs": [
    {
     "data": {
      "text/plain": [
       "'Alice Weidel'"
      ]
     },
     "execution_count": 15,
     "metadata": {},
     "output_type": "execute_result"
    }
   ],
   "source": [
    "model.docvecs.doesnt_match(['Angela Merkel', 'Martin Schulz', 'Christian Lindner', 'Dietmar Bartsch', 'Cem Özdemir', 'Alice Weidel', 'Joachim Herrmann'])"
   ]
  },
  {
   "cell_type": "code",
   "execution_count": 16,
   "metadata": {},
   "outputs": [
    {
     "data": {
      "text/plain": [
       "'CSU Party'"
      ]
     },
     "execution_count": 16,
     "metadata": {},
     "output_type": "execute_result"
    }
   ],
   "source": [
    "model.docvecs.doesnt_match(['SPD Party', 'CDU Party', 'FDP Party', 'DIE LINKE Party', 'CSU Party', 'GRÜNE Party', 'AfD Party'])"
   ]
  },
  {
   "cell_type": "markdown",
   "metadata": {
    "heading_collapsed": true
   },
   "source": [
    "## infer new data\n",
    "\n",
    "post from **Martin Schulz** after the election"
   ]
  },
  {
   "cell_type": "code",
   "execution_count": 240,
   "metadata": {
    "hidden": true
   },
   "outputs": [
    {
     "data": {
      "text/plain": [
       "[('146943', 0.8924677968025208),\n",
       " ('147', 0.8910102844238281),\n",
       " ('49850', 0.889638364315033),\n",
       " ('107631', 0.8883894085884094),\n",
       " ('9339', 0.8877042531967163),\n",
       " ('103717', 0.8872299790382385),\n",
       " ('101926', 0.8843702077865601),\n",
       " ('66186', 0.8834260702133179),\n",
       " ('169742', 0.8825559616088867),\n",
       " ('162227', 0.8819050192832947)]"
      ]
     },
     "execution_count": 240,
     "metadata": {},
     "output_type": "execute_result"
    }
   ],
   "source": [
    "model.docvecs.most_similar([model.infer_vector('Solidarität ist für mich kein abstrakter Begriff. Solidarität ist für mich Alltag. Sie steht nicht nur seit vielen Jahrzehnten im Zentrum meines ganzen politischen Denkens und Handelns. Sondern ich erlebe sie jeden Tag, ganz persönlich. Ich habe sie im Wahlkampf erlebt. Und ich erfahre sie in der aktuellen, schwierigen politischen Lage. Von Freunden und Angehörigen, von Genossinnen und Genossen. Und ich hatte das große Glück, als ich in meiner Jugend strauchelte, von anderen aufgefangen zu werden. Damals waren dies die Jusos in meiner Heimatstadt Würselen. So kam ich zur SPD. Denn hier merkte ich: Das war nicht nur ein Wort. In der Sozialdemokratie wird Solidarität gelebt. Ohne ist die SPD für mich gar nicht denkbar.')])"
   ]
  }
 ],
 "metadata": {
  "kernelspec": {
   "display_name": "Python 3",
   "language": "python",
   "name": "python3"
  },
  "language_info": {
   "codemirror_mode": {
    "name": "ipython",
    "version": 3
   },
   "file_extension": ".py",
   "mimetype": "text/x-python",
   "name": "python",
   "nbconvert_exporter": "python",
   "pygments_lexer": "ipython3",
   "version": "3.6.3"
  }
 },
 "nbformat": 4,
 "nbformat_minor": 2
}
