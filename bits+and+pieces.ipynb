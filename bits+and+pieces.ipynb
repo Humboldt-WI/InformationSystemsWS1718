{
 "cells": [
  {
   "cell_type": "markdown",
   "metadata": {},
   "source": [
    "# Practice\n",
    " - gensim library\n",
    " - dataset: 175 000 Facebook posts from 1000 candidates of 7 major German political parties\n",
    " - unsupervised model\n",
    " - t-Distributed Stochastic Neighbor Embedding (t-SNE) for vizualisation"
   ]
  },
  {
   "cell_type": "markdown",
   "metadata": {},
   "source": [
    "### Questions to answer: \n",
    "\n",
    " 1. how much candidates correspond to the party programms in their posts?\n",
    " \n",
    " 2. are there candidates that should consider changing parties?\n",
    " ![COW-Stump-the-Candidates.jpg](attachment:COW-Stump-the-Candidates.jpg)"
   ]
  },
  {
   "cell_type": "markdown",
   "metadata": {},
   "source": [
    "#### 1. Some descriptive statistics\n",
    "(JM notebook)"
   ]
  }
 ],
 "metadata": {
  "kernelspec": {
   "display_name": "Python 3",
   "language": "python",
   "name": "python3"
  },
  "language_info": {
   "codemirror_mode": {
    "name": "ipython",
    "version": 3
   },
   "file_extension": ".py",
   "mimetype": "text/x-python",
   "name": "python",
   "nbconvert_exporter": "python",
   "pygments_lexer": "ipython3",
   "version": "3.6.2"
  }
 },
 "nbformat": 4,
 "nbformat_minor": 2
}
